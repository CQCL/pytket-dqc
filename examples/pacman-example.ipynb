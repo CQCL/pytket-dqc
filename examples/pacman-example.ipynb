{
 "cells": [
  {
   "cell_type": "markdown",
   "id": "3addbdbf",
   "metadata": {},
   "source": [
    "# Using `PacMan`\n",
    "\n",
    "This notebook contains examples on how to use the class `PacMan`."
   ]
  },
  {
   "cell_type": "code",
   "execution_count": null,
   "id": "bbdb006d-c4d7-48af-905c-09681fc98be9",
   "metadata": {
    "tags": []
   },
   "outputs": [],
   "source": [
    "from pytket import Circuit\n",
    "from pytket.circuit import OpType, Op\n",
    "from pytket.circuit.display import render_circuit_jupyter\n",
    "from pytket_dqc.networks import NISQNetwork\n",
    "from pytket_dqc.allocators import HypergraphPartitioning\n",
    "from pytket_dqc.circuits import HypergraphCircuit\n",
    "from pytket_dqc.packing import PacMan\n",
    "from pytket_dqc.utils import DQCPass\n",
    "from pytket_dqc.placement import Placement\n",
    "from sympy import Symbol\n",
    "import networkx as nx\n",
    "import matplotlib.pyplot as plt\n",
    "\n",
    "cz = Op.create(OpType.CU1, 1)"
   ]
  },
  {
   "cell_type": "markdown",
   "id": "6336beed",
   "metadata": {},
   "source": [
    "`PacMan` can find all sorts of `CU1` gates that can be distributed together.  \n",
    "For the purposes of these examples, we imagine that the circuit is distributed across 3 servers, each with 2 qubits.  \n",
    "The qubits 0 & 1 are on server 0, qubits 2 & 3 on server 1, qubits 4 & 5 on server 2.  \n",
    "The `Placements` are manually constructed to illustrate this desired behaviour.\n",
    "\n",
    "The simplest examples are `CU1` gates separated by single qubit diagonal gates."
   ]
  },
  {
   "cell_type": "code",
   "execution_count": null,
   "id": "c04d80a4",
   "metadata": {
    "scrolled": true
   },
   "outputs": [],
   "source": [
    "# Custom placement\n",
    "placement_dict00 = dict()\n",
    "for i in range(6):\n",
    "    placement_dict00[i] = i // 2\n",
    "placement_dict00[6] = 0\n",
    "placement_dict00[7] = 0\n",
    "placement00 = Placement(placement_dict00)\n",
    "\n",
    "# Build circuit\n",
    "circ00 = Circuit(6)\n",
    "circ00.add_gate(cz, [0,2])\n",
    "circ00.Rz(0.3, 0)\n",
    "circ00.add_gate(cz, [0,3])\n",
    "render_circuit_jupyter(circ00)\n",
    "\n",
    "# Make hypergraph of circuit\n",
    "h_circ00 = HypergraphCircuit(circ00)\n",
    "\n",
    "# Pass into PacMan\n",
    "pacman00 = PacMan(h_circ00, placement00)"
   ]
  },
  {
   "cell_type": "markdown",
   "id": "df2ea2bd",
   "metadata": {},
   "source": [
    "`CU1` gates separated by single qubit anti-diagonal gates can also be distributed together."
   ]
  },
  {
   "cell_type": "code",
   "execution_count": null,
   "id": "2c44495d",
   "metadata": {},
   "outputs": [],
   "source": [
    "# Custom placement\n",
    "placement_dict01 = dict()\n",
    "for i in range(6):\n",
    "    placement_dict01[i] = i // 2\n",
    "placement_dict01[6] = 0\n",
    "placement_dict01[7] = 0\n",
    "placement01 = Placement(placement_dict01)\n",
    "\n",
    "# Build circuit\n",
    "circ01 = Circuit(6)\n",
    "circ01.add_gate(cz, [0,2])\n",
    "circ01.Rz(0.3, 0)\n",
    "# Note H Rz(1) H = H Z H = X, an anti-diagonal gate.\n",
    "circ01.H(0)\n",
    "circ01.Rz(1, 0)\n",
    "circ01.H(0)\n",
    "circ01.add_gate(cz, [0,3])\n",
    "render_circuit_jupyter(circ01)\n",
    "\n",
    "# Make hypergraph of circuit\n",
    "h_circ01 = HypergraphCircuit(circ01)\n",
    "\n",
    "# Pass into PacMan\n",
    "pacman01 = PacMan(h_circ01, placement01)"
   ]
  },
  {
   "cell_type": "markdown",
   "id": "e4c6c1c7",
   "metadata": {},
   "source": [
    "`CU1` gates that go to different servers are split into different packets."
   ]
  },
  {
   "cell_type": "code",
   "execution_count": null,
   "id": "a1b70323",
   "metadata": {},
   "outputs": [],
   "source": [
    "# Custom placement\n",
    "placement_dict02 = dict()\n",
    "for i in range(6):\n",
    "    placement_dict02[i] = i // 2\n",
    "placement_dict02[6] = 0\n",
    "placement_dict02[7] = 0\n",
    "placement_dict02[8] = 0\n",
    "placement_dict02[9] = 0\n",
    "placement02 = Placement(placement_dict02)\n",
    "\n",
    "# Build circuit\n",
    "circ02 = Circuit(6)\n",
    "circ02.add_gate(cz, [0,2])\n",
    "circ02.add_gate(cz, [0,4])\n",
    "circ02.add_gate(cz, [0,3])\n",
    "circ02.add_gate(cz, [0,5])\n",
    "render_circuit_jupyter(circ02)\n",
    "\n",
    "# Make hypergraph of circuit\n",
    "h_circ02 = HypergraphCircuit(circ02)\n",
    "\n",
    "# Pass into PacMan\n",
    "pacman02 = PacMan(h_circ02, placement02)"
   ]
  },
  {
   "cell_type": "markdown",
   "id": "ad9cfc15",
   "metadata": {},
   "source": [
    "The above 3 examples demonstrate neighbouring packing.  \n",
    "Provided the right conditions are met, we can also merge packets via hopping packing.\n",
    "\n",
    "The simplest case of this is two Hadamards surrounding a CZ gate (= CX gate)."
   ]
  },
  {
   "cell_type": "code",
   "execution_count": null,
   "id": "28fdf285",
   "metadata": {},
   "outputs": [],
   "source": [
    "# Custom placement\n",
    "placement_dict03 = dict()\n",
    "for i in range(6):\n",
    "    placement_dict03[i] = i // 2\n",
    "placement_dict03[6] = 0\n",
    "placement_dict03[7] = 0\n",
    "placement_dict03[8] = 0\n",
    "placement03 = Placement(placement_dict03)\n",
    "\n",
    "# Build circuit\n",
    "circ03 = Circuit(6)\n",
    "circ03.add_gate(cz, [0,2])\n",
    "circ03.H(0)\n",
    "circ03.add_gate(cz, [0,3])\n",
    "circ03.H(0)\n",
    "circ03.add_gate(cz, [0,2])\n",
    "render_circuit_jupyter(circ03)\n",
    "\n",
    "# Make hypergraph of circuit\n",
    "h_circ03 = HypergraphCircuit(circ03)\n",
    "\n",
    "# Pass into PacMan\n",
    "pacman03 = PacMan(h_circ03, placement03)\n",
    "\n",
    "print(pacman03.hopping_packets)"
   ]
  },
  {
   "cell_type": "markdown",
   "id": "f569279f",
   "metadata": {},
   "source": [
    "More complicated hopping packings can also be identified.\n",
    "\n",
    "Two embedded `CU1`s with a single `Z` between them."
   ]
  },
  {
   "cell_type": "code",
   "execution_count": null,
   "id": "86baf51a",
   "metadata": {},
   "outputs": [],
   "source": [
    "# Custom placement\n",
    "placement_dict04 = dict()\n",
    "for i in range(6):\n",
    "    placement_dict04[i] = i // 2\n",
    "placement_dict04[6] = 0\n",
    "placement_dict04[7] = 0\n",
    "placement_dict04[8] = 0\n",
    "placement04 = Placement(placement_dict04)\n",
    "\n",
    "# Build circuit\n",
    "circ04 = Circuit(6)\n",
    "circ04.add_gate(cz, [0,2])\n",
    "circ04.H(0)\n",
    "circ04.add_gate(cz, [0,2])\n",
    "circ04.Rz(1, 0)\n",
    "circ04.add_gate(cz, [0,3])\n",
    "circ04.H(0)\n",
    "circ04.add_gate(cz, [0,2])\n",
    "render_circuit_jupyter(circ04)\n",
    "\n",
    "# Make hypergraph of circuit\n",
    "h_circ04 = HypergraphCircuit(circ04)\n",
    "\n",
    "# Pass into PacMan\n",
    "pacman04 = PacMan(h_circ04, placement04)\n",
    "\n",
    "print(pacman04.hopping_packets)"
   ]
  },
  {
   "cell_type": "markdown",
   "id": "829009e2",
   "metadata": {},
   "source": [
    "Or with an `X` between them."
   ]
  },
  {
   "cell_type": "code",
   "execution_count": null,
   "id": "73927030",
   "metadata": {},
   "outputs": [],
   "source": [
    "# Custom placement\n",
    "placement_dict05 = dict()\n",
    "for i in range(6):\n",
    "    placement_dict05[i] = i // 2\n",
    "placement_dict05[6] = 0\n",
    "placement_dict05[7] = 0\n",
    "placement_dict05[8] = 0\n",
    "placement_dict05[9] = 0\n",
    "placement05 = Placement(placement_dict05)\n",
    "\n",
    "# Build circuit\n",
    "circ05 = Circuit(6)\n",
    "circ05.add_gate(cz, [0,2])\n",
    "circ05.H(0)\n",
    "circ05.add_gate(cz, [0,2])\n",
    "# Note H Rz(1) H = H Z H = X, an anti-diagonal gate.\n",
    "circ05.H(0)\n",
    "circ05.Rz(1, 0)\n",
    "circ05.H(0)\n",
    "circ05.add_gate(cz, [0,3])\n",
    "circ05.H(0)\n",
    "circ05.add_gate(cz, [0,2])\n",
    "render_circuit_jupyter(circ05)\n",
    "\n",
    "# Make hypergraph of circuit\n",
    "h_circ05 = HypergraphCircuit(circ05)\n",
    "\n",
    "# Pass into PacMan\n",
    "pacman05 = PacMan(h_circ05, placement05)\n",
    "\n",
    "print(pacman05.hopping_packets)"
   ]
  },
  {
   "cell_type": "markdown",
   "id": "aae1621d",
   "metadata": {},
   "source": [
    "(Actually in this case the `Rz` can have any phase)"
   ]
  },
  {
   "cell_type": "code",
   "execution_count": null,
   "id": "4c369a6b",
   "metadata": {},
   "outputs": [],
   "source": [
    "# Custom placement\n",
    "placement_dict06 = dict()\n",
    "for i in range(6):\n",
    "    placement_dict06[i] = i // 2\n",
    "placement_dict06[6] = 0\n",
    "placement_dict06[7] = 0\n",
    "placement_dict06[8] = 0\n",
    "placement06 = Placement(placement_dict06)\n",
    "\n",
    "# Build circuit\n",
    "circ06 = Circuit(6)\n",
    "circ06.add_gate(cz, [0,2])\n",
    "circ06.H(0)\n",
    "circ06.add_gate(cz, [0,2])\n",
    "circ06.H(0)\n",
    "circ06.Rz(0.27, 0)\n",
    "circ06.H(0)\n",
    "circ06.add_gate(cz, [0,3])\n",
    "circ06.H(0)\n",
    "circ06.add_gate(cz, [0,2])\n",
    "render_circuit_jupyter(circ06)\n",
    "\n",
    "# Make hypergraph of circuit\n",
    "h_circ06 = HypergraphCircuit(circ06)\n",
    "\n",
    "# Pass into PacMan\n",
    "pacman06 = PacMan(h_circ06, placement06)\n",
    "\n",
    "print(pacman06.hopping_packets)"
   ]
  },
  {
   "cell_type": "markdown",
   "id": "b4580c20",
   "metadata": {},
   "source": [
    "There may just be 1 Hadamard between two embedded `CU1`s."
   ]
  },
  {
   "cell_type": "code",
   "execution_count": null,
   "id": "ce91ff41",
   "metadata": {
    "scrolled": true
   },
   "outputs": [],
   "source": [
    "# Custom placement\n",
    "placement_dict07 = dict()\n",
    "for i in range(6):\n",
    "    placement_dict07[i] = i // 2\n",
    "placement_dict07[6] = 0\n",
    "placement_dict07[7] = 0\n",
    "placement_dict07[8] = 0\n",
    "placement07 = Placement(placement_dict07)\n",
    "\n",
    "# Build circuit\n",
    "circ07 = Circuit(6)\n",
    "circ07.add_gate(cz, [0,2])\n",
    "circ07.H(0)\n",
    "circ07.add_gate(cz, [0,2])\n",
    "circ07.Rz(0.5, 0)\n",
    "circ07.H(0)\n",
    "circ07.Rz(0.5, 0)\n",
    "circ07.add_gate(cz, [0,3])\n",
    "circ07.H(0)\n",
    "circ07.add_gate(cz, [0,2])\n",
    "render_circuit_jupyter(circ07)\n",
    "\n",
    "# Make hypergraph of circuit\n",
    "h_circ07 = HypergraphCircuit(circ07)\n",
    "\n",
    "# Pass into PacMan\n",
    "pacman07 = PacMan(h_circ07, placement07)\n",
    "\n",
    "print(pacman07.hopping_packets)"
   ]
  },
  {
   "cell_type": "markdown",
   "id": "5006c385",
   "metadata": {},
   "source": [
    "Graph methods are useful for analysing the ebit cost of these packings.  \n",
    "We can use the method `.get_nx_graph_merged()` to return a graph representation of the circuit.\n",
    "\n",
    "Note that this method also returns all the nodes on one half of the bipartite graph (conventionally called the top half). This is because the graph is likely highly disconnected, so `NetworkX` requires this to avoid ambiguous solutions to certain methods."
   ]
  },
  {
   "cell_type": "code",
   "execution_count": null,
   "id": "efee15ec",
   "metadata": {},
   "outputs": [],
   "source": [
    "g, topnodes = pacman.get_nx_graph_merged()\n",
    "print(nx.adjacency_matrix(g).toarray())"
   ]
  },
  {
   "cell_type": "markdown",
   "id": "cd280ec1",
   "metadata": {},
   "source": [
    "This can be easily drawn as a bipartite graph like so (note this is an example of needing `topnodes`)."
   ]
  },
  {
   "cell_type": "code",
   "execution_count": null,
   "id": "1e690a9c",
   "metadata": {},
   "outputs": [],
   "source": [
    "nx.draw_networkx(\n",
    "    g,\n",
    "    pos = nx.drawing.layout.bipartite_layout(g, topnodes), \n",
    "    width = 1)"
   ]
  },
  {
   "cell_type": "markdown",
   "id": "4169c06e",
   "metadata": {},
   "source": [
    "We can also get and draw the conflict graph."
   ]
  },
  {
   "cell_type": "code",
   "execution_count": null,
   "id": "be3cc15d",
   "metadata": {},
   "outputs": [],
   "source": [
    "conflict_g, conflict_topnodes = pacman.get_nx_graph_conflict()\n",
    "nx.draw_networkx(\n",
    "    conflict_g,\n",
    "    pos = nx.drawing.layout.bipartite_layout(conflict_g, conflict_topnodes), \n",
    "    width = 1)"
   ]
  },
  {
   "cell_type": "markdown",
   "id": "a1b55441",
   "metadata": {},
   "source": [
    "For our purposes, it is useful to obtain a minimum vertex cover of the merged graph, as well as find out which vertices of the MVC also form conflicting edges (here, the conflicting edge does not represent a true conflict)."
   ]
  },
  {
   "cell_type": "code",
   "execution_count": null,
   "id": "d2a87cca",
   "metadata": {},
   "outputs": [],
   "source": [
    "print(pacman.get_mvc_merged_graph())"
   ]
  },
  {
   "cell_type": "markdown",
   "id": "101eed03",
   "metadata": {},
   "source": [
    "## More complex circuit (under construction)\n",
    "\n",
    "We now import a Chemistry circuit as a real world example."
   ]
  },
  {
   "cell_type": "code",
   "execution_count": null,
   "id": "95d6ec06",
   "metadata": {
    "code_folding": []
   },
   "outputs": [],
   "source": [
    "import json\n",
    "# Replace this with the location of the Chemistry circuit.\n",
    "with open(\"../../Tokyo-CQC-collab/circuits/uccsd/raw/06_02_01.json\") as f:\n",
    "    circuit = Circuit.from_dict(json.load(f))\n",
    "network = NISQNetwork(\n",
    "    [[0,1]],\n",
    "    {0: [0,1,2], 1: [3,4,5]}\n",
    ")\n",
    "\n",
    "# Bind all the symbols in the circuit\n",
    "t01 = Symbol(\"t0_1\")\n",
    "t02 = Symbol(\"t0_2\")\n",
    "t11 = Symbol(\"t1_1\")\n",
    "t12 = Symbol(\"t1_2\")\n",
    "t22 = Symbol(\"t2_2\")\n",
    "t21 = Symbol(\"t2_1\")\n",
    "t31 = Symbol(\"t3_1\")\n",
    "t41 = Symbol(\"t4_1\")\n",
    "t51 = Symbol(\"t5_1\")\n",
    "t61 = Symbol(\"t6_1\")\n",
    "t71 = Symbol(\"t7_1\")\n",
    "\n",
    "symbols = [\n",
    "    t01, t02, t11, t12, t22, t21, t31, t41, t51, t61, t71\n",
    "]\n",
    "\n",
    "symbol_map = dict()\n",
    "\n",
    "for symbol in symbols:\n",
    "    symbol_map[symbol] = 0\n",
    "\n",
    "circuit.symbol_substitution(symbol_map)\n",
    "render_circuit_jupyter(circuit)\n",
    "\n",
    "# Check they're all bound\n",
    "assert len(circuit.free_symbols()) == 0"
   ]
  },
  {
   "cell_type": "code",
   "execution_count": null,
   "id": "8d320488",
   "metadata": {},
   "outputs": [],
   "source": [
    "DQCPass().apply(circuit)\n",
    "allocator = HypergraphPartitioning()\n",
    "distribution = allocator.allocate(circuit, network)\n",
    "hypergraph_circuit = HypergraphCircuit(circuit)\n",
    "render_circuit_jupyter(circuit)"
   ]
  },
  {
   "cell_type": "code",
   "execution_count": null,
   "id": "0160f485",
   "metadata": {},
   "outputs": [],
   "source": [
    "pacman_chem = PacMan(hypergraph_circuit, distribution.placement)\n",
    "g_chem, topnodes_chem = pacman_chem.get_nx_graph_merged()\n",
    "print(len(g_chem.nodes))\n",
    "conflict_g_chem, conflict_topnodes_chem = pacman_chem.get_nx_graph_conflict()"
   ]
  },
  {
   "cell_type": "code",
   "execution_count": null,
   "id": "1196e950",
   "metadata": {},
   "outputs": [],
   "source": [
    "plt.figure(3,figsize=(50,45)) \n",
    "nx.draw_networkx(\n",
    "    g_chem,\n",
    "    pos = nx.drawing.layout.bipartite_layout(g_chem, topnodes_chem), \n",
    "    width = 1,\n",
    "    node_size=1,\n",
    "    font_size=20,\n",
    "    with_labels=True\n",
    ")"
   ]
  },
  {
   "cell_type": "code",
   "execution_count": null,
   "id": "79b9e5e0",
   "metadata": {},
   "outputs": [],
   "source": [
    "nx.draw_networkx(\n",
    "    conflict_g_chem,\n",
    "    pos = nx.drawing.layout.bipartite_layout(conflict_g_chem, conflict_topnodes_chem), \n",
    "    width = 1)"
   ]
  },
  {
   "cell_type": "code",
   "execution_count": null,
   "id": "13e8fab4",
   "metadata": {},
   "outputs": [],
   "source": [
    "def get_packet(pacman, string_rep):\n",
    "    for packet in pacman.get_all_packets():\n",
    "        if packet.__repr__() == string_rep:\n",
    "            return packet\n",
    "\n",
    "print(get_packet(pacman_chem, \"P88\"))"
   ]
  },
  {
   "cell_type": "markdown",
   "id": "3a90c02a",
   "metadata": {},
   "source": [
    "## Junyi request\n",
    "\n",
    "Adjacency matrix of the packing graph (with packets allocation)  \n",
    "Adjacency matrix of intrinsic conflict graph (with packets allocation)  \n",
    "Set of indecomposable hopping packets of the 6-qubit ucc circuit"
   ]
  },
  {
   "cell_type": "code",
   "execution_count": null,
   "id": "83e2fe9a",
   "metadata": {},
   "outputs": [],
   "source": [
    "import sys\n",
    "import numpy\n",
    "from IPython.display import display, HTML\n",
    "display(HTML(\"<style>.container { width:100% !important; }</style>\"))\n",
    "numpy.set_printoptions(threshold=sys.maxsize, linewidth=sys.maxsize)\n",
    "merged_packets = pacman_chem.get_all_merged_packets()\n",
    "print(nx.to_numpy_matrix(g_chem, nodelist = merged_packets))\n",
    "print(merged_packets)"
   ]
  },
  {
   "cell_type": "code",
   "execution_count": null,
   "id": "7dc39cda",
   "metadata": {},
   "outputs": [],
   "source": [
    "print(nx.to_numpy_matrix(conflict_g_chem))\n",
    "print(conflict_g_chem.nodes)"
   ]
  },
  {
   "cell_type": "code",
   "execution_count": null,
   "id": "a3ad3daf-8e3b-4702-97ca-2e9996afef75",
   "metadata": {},
   "outputs": [],
   "source": [
    "hopping = list()\n",
    "for i in range(6):\n",
    "    hopping.extend(pacman_chem.hopping_packets[i])\n",
    "print(hopping)"
   ]
  },
  {
   "cell_type": "code",
   "execution_count": null,
   "id": "a269168e-46a0-4b45-bbd6-69412280c2ef",
   "metadata": {},
   "outputs": [],
   "source": []
  }
 ],
 "metadata": {
  "kernelspec": {
   "display_name": "Python 3 (ipykernel)",
   "language": "python",
   "name": "python3"
  },
  "language_info": {
   "codemirror_mode": {
    "name": "ipython",
    "version": 3
   },
   "file_extension": ".py",
   "mimetype": "text/x-python",
   "name": "python",
   "nbconvert_exporter": "python",
   "pygments_lexer": "ipython3",
   "version": "3.9.10"
  },
  "vscode": {
   "interpreter": {
    "hash": "e7d11d6e0faa46b02a2a8bad39190e058dde830387c381b5ae62868fa6ca3420"
   }
  }
 },
 "nbformat": 4,
 "nbformat_minor": 5
}
