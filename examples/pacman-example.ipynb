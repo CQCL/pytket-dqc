{
 "cells": [
  {
   "cell_type": "code",
   "execution_count": null,
   "id": "bbdb006d-c4d7-48af-905c-09681fc98be9",
   "metadata": {
    "tags": []
   },
   "outputs": [],
   "source": [
    "from pytket import Circuit\n",
    "from pytket.circuit import OpType\n",
    "from pytket.circuit.display import render_circuit_jupyter\n",
    "from pytket_dqc.networks import NISQNetwork\n",
    "from pytket_dqc.allocators import HypergraphPartitioning\n",
    "from pytket_dqc.circuits import HypergraphCircuit\n",
    "from pytket_dqc.packing import PacMan"
   ]
  },
  {
   "cell_type": "code",
   "execution_count": null,
   "id": "95d6ec06",
   "metadata": {
    "code_folding": []
   },
   "outputs": [],
   "source": [
    "circuit = Circuit(3)\n",
    "circuit.add_gate(OpType.CU1,1,[0,1]).H(0).add_gate(OpType.CU1,1,[0,1]).Rz(0.3,0).add_gate(OpType.CU1,1,[0,1]).H(0).add_gate(OpType.CU1,0.5,[0,1]).H(0).add_gate(OpType.CU1,1,[0,1]).H(0).H(0).add_gate(OpType.CU1,1,[0,1]).H(0).add_gate(OpType.CU1,1.5,[0,1])\n",
    "network = NISQNetwork(\n",
    "    [[0,1],[0,2],[1,2]],\n",
    "    {0: [0], 1: [1], 2: [2]}\n",
    ")\n",
    "render_circuit_jupyter(circuit)"
   ]
  },
  {
   "cell_type": "code",
   "execution_count": null,
   "id": "ca92222b-8fdd-4a91-afa8-e0f17c68b66d",
   "metadata": {},
   "outputs": [],
   "source": [
    "hyper_circ = HypergraphCircuit(circuit)\n",
    "distributor = HypergraphPartitioning()\n",
    "placement = distributor.allocate(hyper_circ, network)"
   ]
  },
  {
   "cell_type": "code",
   "execution_count": null,
   "id": "62ac2fa5",
   "metadata": {},
   "outputs": [],
   "source": [
    "pacman = PacMan(hyper_circ, placement.placement)"
   ]
  },
  {
   "cell_type": "code",
   "execution_count": null,
   "id": "b40ea3ad",
   "metadata": {},
   "outputs": [],
   "source": [
    "print(pacman.packets_by_qubit)\n",
    "print(pacman.hopping_packets)"
   ]
  }
 ],
 "metadata": {
  "kernelspec": {
   "display_name": "Python 3 (ipykernel)",
   "language": "python",
   "name": "python3"
  },
  "language_info": {
   "codemirror_mode": {
    "name": "ipython",
    "version": 3
   },
   "file_extension": ".py",
   "mimetype": "text/x-python",
   "name": "python",
   "nbconvert_exporter": "python",
   "pygments_lexer": "ipython3",
   "version": "3.9.10"
  },
  "vscode": {
   "interpreter": {
    "hash": "e7d11d6e0faa46b02a2a8bad39190e058dde830387c381b5ae62868fa6ca3420"
   }
  }
 },
 "nbformat": 4,
 "nbformat_minor": 5
}
