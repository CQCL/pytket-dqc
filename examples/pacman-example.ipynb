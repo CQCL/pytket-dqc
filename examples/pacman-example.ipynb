{
 "cells": [
  {
   "cell_type": "code",
   "execution_count": null,
   "id": "bbdb006d-c4d7-48af-905c-09681fc98be9",
   "metadata": {
    "tags": []
   },
   "outputs": [],
   "source": [
    "from pytket import Circuit\n",
    "from pytket.circuit import OpType\n",
    "from pytket.circuit.display import render_circuit_jupyter\n",
    "from pytket_dqc.networks import NISQNetwork\n",
    "from pytket_dqc.allocators import HypergraphPartitioning\n",
    "from pytket_dqc.circuits import HypergraphCircuit\n",
    "from pytket_dqc.packing import PacMan\n",
    "from pytket_dqc.utils import DQCPass\n",
    "from sympy import Symbol\n",
    "from pytket.passes import SynthesiseTK"
   ]
  },
  {
   "cell_type": "code",
   "execution_count": null,
   "id": "95d6ec06",
   "metadata": {
    "code_folding": []
   },
   "outputs": [],
   "source": [
    "import json\n",
    "with open(\"06_02_01.json\") as f:\n",
    "    circuit = Circuit.from_dict(json.load(f))\n",
    "network = NISQNetwork(\n",
    "    [[0,1]],\n",
    "    {0: [0,1,2], 1: [3,4,5]}\n",
    ")\n",
    "t01 = Symbol(\"t0_1\")\n",
    "t02 = Symbol(\"t0_2\")\n",
    "t11 = Symbol(\"t1_1\")\n",
    "t12 = Symbol(\"t1_2\")\n",
    "t22 = Symbol(\"t2_2\")\n",
    "t21 = Symbol(\"t2_1\")\n",
    "t31 = Symbol(\"t3_1\")\n",
    "t41 = Symbol(\"t4_1\")\n",
    "t51 = Symbol(\"t5_1\")\n",
    "t61 = Symbol(\"t6_1\")\n",
    "t71 = Symbol(\"t7_1\")\n",
    "circ_map = {t01: 0, t02:0, t11: 0, t21: 0, t12: 0, t22:0, t31: 0, t41: 0, t51: 0, t61: 0, t71: 0}\n",
    "circuit.symbol_substitution(circ_map)\n",
    "render_circuit_jupyter(circuit)\n",
    "circuit.free_symbols()"
   ]
  },
  {
   "cell_type": "code",
   "execution_count": null,
   "id": "ca92222b-8fdd-4a91-afa8-e0f17c68b66d",
   "metadata": {
    "scrolled": true
   },
   "outputs": [],
   "source": [
    "DQCPass().apply(circuit)\n",
    "print(len(circuit.get_commands()))\n",
    "print(circuit.n_gates_of_type(OpType.CU1))\n",
    "render_circuit_jupyter(circuit)\n",
    "hyper_circ = HypergraphCircuit(circuit)\n",
    "distributor = HypergraphPartitioning()\n",
    "placement = distributor.allocate(hyper_circ, network)\n",
    "print(placement.placement.placement)"
   ]
  },
  {
   "cell_type": "code",
   "execution_count": null,
   "id": "62ac2fa5",
   "metadata": {},
   "outputs": [],
   "source": [
    "pacman = PacMan(hyper_circ, placement.placement)"
   ]
  },
  {
   "cell_type": "code",
   "execution_count": null,
   "id": "b40ea3ad",
   "metadata": {},
   "outputs": [],
   "source": [
    "print(pacman.packets_by_qubit)\n",
    "print(pacman.hopping_packets)\n",
    "total_sum = 0\n",
    "\n",
    "for value in pacman.hopping_packets.values():\n",
    "    total_sum += len(value)\n",
    "print(total_sum)"
   ]
  },
  {
   "cell_type": "code",
   "execution_count": null,
   "id": "49b73b05",
   "metadata": {},
   "outputs": [],
   "source": [
    "import networkx as nx\n",
    "from networkx.algorithms import bipartite\n",
    "g, topnodes = pacman.get_nx_graph_neighbouring()\n",
    "\n",
    "nx.draw(g, with_labels = True)"
   ]
  },
  {
   "cell_type": "code",
   "execution_count": null,
   "id": "1e690a9c",
   "metadata": {},
   "outputs": [],
   "source": [
    "nx.draw_networkx(\n",
    "    g,\n",
    "    pos = nx.drawing.layout.bipartite_layout(g, topnodes), \n",
    "    width = 1)\n",
    "matching = bipartite.maximum_matching(g, top_nodes = topnodes)\n",
    "mvc = bipartite.to_vertex_cover(g, matching, top_nodes=topnodes)\n",
    "print(len(mvc))"
   ]
  },
  {
   "cell_type": "code",
   "execution_count": null,
   "id": "be3cc15d",
   "metadata": {},
   "outputs": [],
   "source": [
    "cg, topnodes = pacman.get_nx_graph_conflict()\n",
    "nx.draw(cg, with_labels = True)"
   ]
  },
  {
   "cell_type": "code",
   "execution_count": null,
   "id": "21257ca4",
   "metadata": {},
   "outputs": [],
   "source": [
    "nx.draw_networkx(\n",
    "    cg,\n",
    "    pos = nx.drawing.layout.bipartite_layout(cg, topnodes), \n",
    "    width = 1)"
   ]
  },
  {
   "cell_type": "code",
   "execution_count": null,
   "id": "24634a3d",
   "metadata": {},
   "outputs": [],
   "source": []
  }
 ],
 "metadata": {
  "kernelspec": {
   "display_name": "Python 3 (ipykernel)",
   "language": "python",
   "name": "python3"
  },
  "language_info": {
   "codemirror_mode": {
    "name": "ipython",
    "version": 3
   },
   "file_extension": ".py",
   "mimetype": "text/x-python",
   "name": "python",
   "nbconvert_exporter": "python",
   "pygments_lexer": "ipython3",
   "version": "3.9.10"
  },
  "vscode": {
   "interpreter": {
    "hash": "e7d11d6e0faa46b02a2a8bad39190e058dde830387c381b5ae62868fa6ca3420"
   }
  }
 },
 "nbformat": 4,
 "nbformat_minor": 5
}
