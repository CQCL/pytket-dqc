{
 "cells": [
  {
   "cell_type": "markdown",
   "id": "3addbdbf",
   "metadata": {},
   "source": [
    "# Using `PacMan`\n",
    "\n",
    "This notebook contains examples on how to use the class `PacMan`."
   ]
  },
  {
   "cell_type": "code",
   "execution_count": null,
   "id": "bbdb006d-c4d7-48af-905c-09681fc98be9",
   "metadata": {
    "tags": []
   },
   "outputs": [],
   "source": [
    "from pytket import Circuit\n",
    "from pytket.circuit import OpType, Op\n",
    "from pytket.circuit.display import render_circuit_jupyter\n",
    "from pytket_dqc.networks import NISQNetwork\n",
    "from pytket_dqc.allocators import HypergraphPartitioning\n",
    "from pytket_dqc.circuits import HypergraphCircuit\n",
    "from pytket_dqc.packing import PacMan\n",
    "from pytket_dqc.utils import DQCPass\n",
    "from pytket_dqc.placement import Placement\n",
    "from sympy import Symbol\n",
    "import networkx as nx"
   ]
  },
  {
   "cell_type": "markdown",
   "id": "510e83a1",
   "metadata": {},
   "source": [
    "To demonstrate various capabilities, we construct the below dummy circuit and placement."
   ]
  },
  {
   "cell_type": "code",
   "execution_count": null,
   "id": "1eaa9989",
   "metadata": {},
   "outputs": [],
   "source": [
    "test_circuit = Circuit(6)\n",
    "# This test circuit is comprised of sections\n",
    "# designed to test various things\n",
    "\n",
    "# Test that hyperedges on different servers are split\n",
    "# Test that hyperedges split by (anti)diagonal gates\n",
    "# are merged\n",
    "cz = Op.create(OpType.CU1, 1)\n",
    "test_circuit.add_gate(cz, [0,2])\n",
    "test_circuit.add_gate(cz, [0,4])\n",
    "test_circuit.Z(0).X(0)\n",
    "test_circuit.add_gate(cz, [0,5])\n",
    "test_circuit.add_gate(cz, [0,3])\n",
    "\n",
    "# Test we can embed two CU1s with no Hadamard\n",
    "# one Hadamard and two Hadamards\n",
    "# S gates inserted to ensure angle of phase gates\n",
    "# sum to integer\n",
    "test_circuit.H(0)\n",
    "test_circuit.Rz(0.5, 0)\n",
    "test_circuit.add_gate(cz, [0,2])\n",
    "test_circuit.Rz(0.5, 0) # 0 H\n",
    "test_circuit.add_gate(cz, [0,3])\n",
    "test_circuit.H(0) # 1 H\n",
    "test_circuit.add_gate(cz, [0,2]) # NOT mergeable\n",
    "test_circuit.Rz(0.5, 0)\n",
    "test_circuit.H(0) # 2 H\n",
    "test_circuit.Rz(0.27, 0) # Random phase that should have no effect\n",
    "test_circuit.H(0)\n",
    "test_circuit.add_gate(cz, [0,2])\n",
    "test_circuit.H(0)\n",
    "test_circuit.add_gate(cz, [0,3]) # This gate is mergeable\n",
    "\n",
    "# Test that local and 3rd party server CU1s break embeddability\n",
    "test_circuit.H(0)\n",
    "test_circuit.add_gate(cz, [0,1]) # Local CU1\n",
    "test_circuit.H(0)\n",
    "test_circuit.add_gate(cz, [0,2]) # NOT mergeable\n",
    "test_circuit.H(0)\n",
    "test_circuit.add_gate(cz, [0,4]) # 3rd party CU1\n",
    "test_circuit.H(0)\n",
    "test_circuit.add_gate(cz, [0,2]) # NOT mergeable\n",
    "\n",
    "# Test that conflicts are identified correctly\n",
    "test_circuit.H(0).H(2)\n",
    "test_circuit.add_gate(cz, [0,2])\n",
    "test_circuit.H(0).H(2)\n",
    "test_circuit.add_gate(cz, [0,2])\n",
    "\n",
    "placement_dict = {\n",
    "    0: 0, 1: 0, 2: 1, 3: 1, 4: 2, 5: 2,\n",
    "}\n",
    "for i in range(6, 19):\n",
    "    placement_dict[i] = 0\n",
    "placement = Placement(placement_dict)\n",
    "\n",
    "hyper_circ = HypergraphCircuit(test_circuit)"
   ]
  },
  {
   "cell_type": "markdown",
   "id": "5e9e2a2b",
   "metadata": {},
   "source": [
    "Here's how the circuit looks."
   ]
  },
  {
   "cell_type": "code",
   "execution_count": null,
   "id": "ca92222b-8fdd-4a91-afa8-e0f17c68b66d",
   "metadata": {
    "scrolled": true
   },
   "outputs": [],
   "source": [
    "render_circuit_jupyter(test_circuit)"
   ]
  },
  {
   "cell_type": "markdown",
   "id": "c0455cc5",
   "metadata": {},
   "source": [
    "To use `PacMan`, simply pass in the `HypergraphCircuit` and `Placement`."
   ]
  },
  {
   "cell_type": "code",
   "execution_count": null,
   "id": "62ac2fa5",
   "metadata": {},
   "outputs": [],
   "source": [
    "pacman = PacMan(hyper_circ, placement)"
   ]
  },
  {
   "cell_type": "markdown",
   "id": "5006c385",
   "metadata": {},
   "source": [
    "Graph methods are often useful for visual checks. We can use the method `.get_nx_graph_merged()` to return a graph representation of the circuit.\n",
    "\n",
    "Note that this method also returns all the nodes on one half of the bipartite graph (conventionally called the top half). This is because the graph is likely highly disconnected, so `NetworkX` requires this to avoid ambiguous solutions to certain methods."
   ]
  },
  {
   "cell_type": "code",
   "execution_count": null,
   "id": "efee15ec",
   "metadata": {},
   "outputs": [],
   "source": [
    "g, topnodes = pacman.get_nx_graph_merged()"
   ]
  },
  {
   "cell_type": "markdown",
   "id": "cd280ec1",
   "metadata": {},
   "source": [
    "This can be easily drawn as a bipartite graph like so (note this is an example of needing `topnodes`)."
   ]
  },
  {
   "cell_type": "code",
   "execution_count": null,
   "id": "1e690a9c",
   "metadata": {
    "scrolled": false
   },
   "outputs": [],
   "source": [
    "nx.draw_networkx(\n",
    "    g,\n",
    "    pos = nx.drawing.layout.bipartite_layout(g, topnodes), \n",
    "    width = 1)"
   ]
  },
  {
   "cell_type": "markdown",
   "id": "4169c06e",
   "metadata": {},
   "source": [
    "We can also get and draw the conflict graph."
   ]
  },
  {
   "cell_type": "code",
   "execution_count": null,
   "id": "be3cc15d",
   "metadata": {
    "scrolled": false
   },
   "outputs": [],
   "source": [
    "conflict_g, conflict_topnodes = pacman.get_nx_graph_conflict()\n",
    "nx.draw_networkx(\n",
    "    conflict_g,\n",
    "    pos = nx.drawing.layout.bipartite_layout(conflict_g, conflict_topnodes), \n",
    "    width = 1)"
   ]
  },
  {
   "cell_type": "markdown",
   "id": "a1b55441",
   "metadata": {},
   "source": [
    "For our purposes, it is useful to obtain a minimum vertex cover of the merged graph, as well as find out which vertices of the MVC also form conflicting edges (here, the conflicting edge does not represent a true conflict)."
   ]
  },
  {
   "cell_type": "code",
   "execution_count": null,
   "id": "d2a87cca",
   "metadata": {},
   "outputs": [],
   "source": [
    "print(pacman.get_mvc_merged_graph())"
   ]
  },
  {
   "cell_type": "markdown",
   "id": "101eed03",
   "metadata": {},
   "source": [
    "## More complex circuit (under construction)\n",
    "\n",
    "We now import a Chemistry circuit as a real world example."
   ]
  },
  {
   "cell_type": "code",
   "execution_count": null,
   "id": "95d6ec06",
   "metadata": {
    "code_folding": []
   },
   "outputs": [],
   "source": [
    "import json\n",
    "# Replace this with the location of the Chemistry circuit.\n",
    "with open(\"../../Tokyo-CQC-collab/circuits/uccsd/raw/06_02_01.json\") as f:\n",
    "    circuit = Circuit.from_dict(json.load(f))\n",
    "network = NISQNetwork(\n",
    "    [[0,1]],\n",
    "    {0: [0,1,2], 1: [3,4,5]}\n",
    ")\n",
    "\n",
    "# Bind all the symbols in the circuit\n",
    "t01 = Symbol(\"t0_1\")\n",
    "t02 = Symbol(\"t0_2\")\n",
    "t11 = Symbol(\"t1_1\")\n",
    "t12 = Symbol(\"t1_2\")\n",
    "t22 = Symbol(\"t2_2\")\n",
    "t21 = Symbol(\"t2_1\")\n",
    "t31 = Symbol(\"t3_1\")\n",
    "t41 = Symbol(\"t4_1\")\n",
    "t51 = Symbol(\"t5_1\")\n",
    "t61 = Symbol(\"t6_1\")\n",
    "t71 = Symbol(\"t7_1\")\n",
    "\n",
    "symbols = [\n",
    "    t01, t02, t11, t12, t22, t21, t31, t41, t51, t61, t71\n",
    "]\n",
    "\n",
    "symbol_map = dict()\n",
    "\n",
    "for symbol in symbols:\n",
    "    symbol_map[symbol] = 0\n",
    "\n",
    "circuit.symbol_substitution(symbol_map)\n",
    "render_circuit_jupyter(circuit)\n",
    "\n",
    "# Check they're all bound\n",
    "assert len(circuit.free_symbols()) == 0"
   ]
  },
  {
   "cell_type": "code",
   "execution_count": null,
   "id": "8d320488",
   "metadata": {},
   "outputs": [],
   "source": [
    "DQCPass().apply(circuit)\n",
    "allocator = HypergraphPartitioning()\n",
    "distribution = allocator.allocate(circuit, network)\n",
    "hypergraph_circuit = HypergraphCircuit(circuit)\n",
    "render_circuit_jupyter(circuit)"
   ]
  },
  {
   "cell_type": "code",
   "execution_count": null,
   "id": "0160f485",
   "metadata": {},
   "outputs": [],
   "source": [
    "pacman_chem = PacMan(hypergraph_circuit, distribution.placement)\n",
    "g, topnodes = pacman_chem.get_nx_graph_merged()\n",
    "conflict_g, conflict_topnodes = pacman_chem.get_nx_graph_conflict()"
   ]
  },
  {
   "cell_type": "code",
   "execution_count": null,
   "id": "1196e950",
   "metadata": {},
   "outputs": [],
   "source": [
    "nx.draw_networkx(\n",
    "    g,\n",
    "    pos = nx.drawing.layout.bipartite_layout(g, topnodes), \n",
    "    width = 1,\n",
    "    node_size=1,\n",
    "    with_labels=False\n",
    ")"
   ]
  },
  {
   "cell_type": "code",
   "execution_count": null,
   "id": "79b9e5e0",
   "metadata": {},
   "outputs": [],
   "source": [
    "nx.draw_networkx(\n",
    "    conflict_g,\n",
    "    pos = nx.drawing.layout.bipartite_layout(conflict_g, conflict_topnodes), \n",
    "    width = 1)"
   ]
  }
 ],
 "metadata": {
  "kernelspec": {
   "display_name": "Python 3 (ipykernel)",
   "language": "python",
   "name": "python3"
  },
  "language_info": {
   "codemirror_mode": {
    "name": "ipython",
    "version": 3
   },
   "file_extension": ".py",
   "mimetype": "text/x-python",
   "name": "python",
   "nbconvert_exporter": "python",
   "pygments_lexer": "ipython3",
   "version": "3.9.10"
  },
  "vscode": {
   "interpreter": {
    "hash": "e7d11d6e0faa46b02a2a8bad39190e058dde830387c381b5ae62868fa6ca3420"
   }
  }
 },
 "nbformat": 4,
 "nbformat_minor": 5
}
