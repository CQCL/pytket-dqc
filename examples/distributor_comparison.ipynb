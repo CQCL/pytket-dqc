{
 "cells": [
  {
   "cell_type": "markdown",
   "id": "7e3521ba",
   "metadata": {},
   "source": [
    "# `Distributor` Comparison\n",
    "In `pytket-dqc` a `Distributor` transforms a pytket `Circuit` and a `NISQNetwork` into a `Distribution` describing how, and in which network modules, gates of the original circuit should be acted so as to comply with the connectivity of the network. A `Distributor` is constructed from an `Allocator`, which produces and initial `Distribution`, followed by a sequence of refinements, implemented as instances of the `Refiner` class. In this notebook we will examine some of the default distributors available through `pytket-dqc`. These have been constructed as recommended by the authors, but you may wish to develop your own.\n",
    "\n",
    "We will use terminology that was introduced in the notebook `basic_usage`, and refer you to [Distributing circuits over heterogeneous, modular quantum computing network architectures](https://arxiv.org/abs/2305.14148) for the fullest discussion of the terminology and methods used. Throughout this notebook we will use the Chemically-Aware Ansatz circuit, used in the results of the above paper and seen below, as a running example."
   ]
  },
  {
   "cell_type": "code",
   "execution_count": null,
   "id": "37048d28",
   "metadata": {},
   "outputs": [],
   "source": [
    "import json\n",
    "from pytket import Circuit\n",
    "from pytket.circuit.display import render_circuit_jupyter\n",
    "\n",
    "with open('chem_aware_ansatz.json', 'r') as fp:    \n",
    "    circ = Circuit().from_dict(json.load(fp))\n",
    "\n",
    "render_circuit_jupyter(circ)"
   ]
  },
  {
   "cell_type": "markdown",
   "id": "e620b74a",
   "metadata": {},
   "source": [
    "We will use a particular kind of networks which we refer to as small world. Small world networks have short characteristic path lengths and have no highly connected hub nodes. In the paper [Distributing circuits over heterogeneous, modular quantum computing network architectures](https://arxiv.org/abs/2305.14148) we also perform a similar set of experiments with a scale free network, which do have highly connected hub nodes."
   ]
  },
  {
   "cell_type": "code",
   "execution_count": null,
   "id": "e87e6c00",
   "metadata": {},
   "outputs": [],
   "source": [
    "from pytket_dqc import NISQNetwork\n",
    "\n",
    "server_coupling = [[4, 2], [1, 2], [1, 3], [2, 3], [3, 0]]\n",
    "server_qubits = {0: [0, 6], 1: [1, 9], 2: [2, 7, 8], 3: [3, 5], 4: [4, 10]}\n",
    "small_world_network = NISQNetwork(\n",
    "    server_coupling=server_coupling,\n",
    "    server_qubits=server_qubits\n",
    ")\n",
    "f = small_world_network.draw_nisq_network()"
   ]
  },
  {
   "cell_type": "markdown",
   "id": "703d5e01",
   "metadata": {},
   "source": [
    "The `CoverEmbedding` `Distributor` below utilises the technique introduced in [Entanglement-efficient bipartite-distributed quantum computing with entanglement-assisted packing processes](https://arxiv.org/abs/2212.12688) to distribute quantum circuits. In particular it makes use in the first instance of embedding; the merging of distributable packets either side of one or more other distributable packets to preserver entanglement."
   ]
  },
  {
   "cell_type": "code",
   "execution_count": null,
   "id": "d609c9d0",
   "metadata": {},
   "outputs": [],
   "source": [
    "from pytket_dqc.distributors import CoverEmbedding\n",
    "\n",
    "distribution = CoverEmbedding().distribute(circ, small_world_network, seed=0)\n",
    "print(\"cost\", distribution.cost())\n",
    "print(\"detached gate count\", distribution.detached_gate_count())\n",
    "print(\"non local gate count\", distribution.non_local_gate_count())\n",
    "print(\"hyperedge count\", len(distribution.circuit.hyperedge_list))"
   ]
  },
  {
   "cell_type": "markdown",
   "id": "e9ff0bd0",
   "metadata": {},
   "source": [
    "Under the hood, the `CoverEmbedding` `Distributor` uses the `PartitioningHeterogeneous` `Allocator` to construct an initial `Distribution`, keeps only the allocation of qubits to modules, and uses the `VertexCover` `Refiner` to implement non-local gates. However, `VertexCover`, and so `CoverEmbedding`, is designed with homogeneous networks in mind. As such there are no detached gates in the resulting `Distribution`, and each hyperedge contains gates and qubits placed in a maximum of 2 modules.\n",
    "\n",
    "To account for this, we can act a `Refiner` after `CoverEmbedding`. The refinement passes `NeighbouringDTypeMerge` and `IntertwinedDTypeMerge` can be used to merge hyperedges so that they cover more than two modules. The resulting `Distribution` will have a reduced ebit cost due to the use of Steiner trees to distribute entanglement."
   ]
  },
  {
   "cell_type": "code",
   "execution_count": null,
   "id": "b8cce547",
   "metadata": {},
   "outputs": [],
   "source": [
    "from pytket_dqc.refiners import (\n",
    "    NeighbouringDTypeMerge,\n",
    "    IntertwinedDTypeMerge,\n",
    "    SequenceRefiner,\n",
    "    RepeatRefiner,\n",
    ")\n",
    "\n",
    "refiner_list = [\n",
    "    NeighbouringDTypeMerge(),\n",
    "    IntertwinedDTypeMerge(),\n",
    "]\n",
    "refiner = RepeatRefiner(SequenceRefiner(refiner_list))\n",
    "refiner.refine(distribution)\n",
    "\n",
    "print(\"cost\", distribution.cost())\n",
    "print(\"detached gate count\", distribution.detached_gate_count())\n",
    "print(\"non local gate count\", distribution.non_local_gate_count())\n",
    "print(\"hyperedge count\", len(distribution.circuit.hyperedge_list))"
   ]
  },
  {
   "cell_type": "markdown",
   "id": "af9539ad",
   "metadata": {},
   "source": [
    "The results can be further improved by making use of the `DetachedGates` `Refiner` which adjusts gate placements to make better use of detached gates. In fact the `DetachedGates` `Refiner` and the `DTypeMerge` refiners discussed above are all wrapped into a single `Distributor` provided through pytket-dqc in the form of the `CoverEmbeddingSteinerDetached` `Distributor`."
   ]
  },
  {
   "cell_type": "code",
   "execution_count": null,
   "id": "69dbb71e",
   "metadata": {},
   "outputs": [],
   "source": [
    "from pytket_dqc.distributors import CoverEmbeddingSteinerDetached\n",
    "\n",
    "distribution = CoverEmbeddingSteinerDetached().distribute(circ, small_world_network, seed=0)\n",
    "print(\"cost\", distribution.cost())\n",
    "print(\"detached gate count\", distribution.detached_gate_count())\n",
    "print(\"non local gate count\", distribution.non_local_gate_count())\n",
    "print(\"hyperedge count\", len(distribution.circuit.hyperedge_list))"
   ]
  },
  {
   "cell_type": "markdown",
   "id": "e790a409",
   "metadata": {},
   "source": [
    "The `PartitioningHeterogeneousEmbedding` `Distributor` is another which, like `CoverEmbeddingSteinerDetached`, makes use of embedding, detached gates, and Steiner trees. In the case of `PartitioningHeterogeneousEmbedding` the heterogeneous nature of the network is considered first and refined upon, while in the case of `CoverEmbeddingSteinerDetached` embedding is considered in the first instance. We see from the results below that  `CoverEmbeddingSteinerDetached` out performs `PartitioningHeterogeneousEmbedding` indicating that this particular circuit benefits greatly form the use of embedding, which should be considered first."
   ]
  },
  {
   "cell_type": "code",
   "execution_count": null,
   "id": "37c1d488",
   "metadata": {},
   "outputs": [],
   "source": [
    "from pytket_dqc.distributors import PartitioningHeterogeneousEmbedding\n",
    "\n",
    "distribution = PartitioningHeterogeneousEmbedding().distribute(circ, small_world_network, seed=0)\n",
    "print(\"cost\", distribution.cost())\n",
    "print(\"detached gate count\", distribution.detached_gate_count())\n",
    "print(\"non local gate count\", distribution.non_local_gate_count())\n",
    "print(\"hyperedge count\", len(distribution.circuit.hyperedge_list))"
   ]
  }
 ],
 "metadata": {
  "kernelspec": {
   "display_name": "Python 3 (ipykernel)",
   "language": "python",
   "name": "python3"
  },
  "language_info": {
   "codemirror_mode": {
    "name": "ipython",
    "version": 3
   },
   "file_extension": ".py",
   "mimetype": "text/x-python",
   "name": "python",
   "nbconvert_exporter": "python",
   "pygments_lexer": "ipython3",
   "version": "3.10.10"
  }
 },
 "nbformat": 4,
 "nbformat_minor": 5
}
