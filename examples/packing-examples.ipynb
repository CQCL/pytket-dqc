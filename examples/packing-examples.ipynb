{
 "cells": [
  {
   "cell_type": "markdown",
   "id": "865a8a79-5cf4-471d-9711-69b7c892db3d",
   "metadata": {
    "tags": []
   },
   "source": [
    "# Packing circuits\n",
    "\n",
    "This notebook looks at some examples of packing circuits to reduce their ancilla costs. In particular in these examples this problem is solved via the calculation of minimum vertex covers, which is done by not allowing 'evicted gates'.\n",
    "\n",
    "First, import the modules we need."
   ]
  },
  {
   "cell_type": "code",
   "execution_count": null,
   "id": "bbdb006d-c4d7-48af-905c-09681fc98be9",
   "metadata": {
    "tags": []
   },
   "outputs": [],
   "source": [
    "from pytket import Circuit\n",
    "from pytket.circuit.display import render_circuit_jupyter\n",
    "from pytket_dqc.networks import NISQNetwork\n",
    "from pytket_dqc.allocators import HypergraphPartitioning, Annealing\n",
    "from pytket_dqc.circuits import HypergraphCircuit, BipartiteCircuit\n",
    "from pytket_dqc.utils import ebit_memory_required\n",
    "from pytket.transform import Transform\n",
    "from pytket_dqc.utils import check_equivalence, DQCPass"
   ]
  },
  {
   "cell_type": "markdown",
   "id": "a7c3b907-9ad7-4020-a29a-b21543de0600",
   "metadata": {},
   "source": [
    "## Trivial examples"
   ]
  },
  {
   "cell_type": "markdown",
   "id": "ab746ea4",
   "metadata": {},
   "source": [
    "### Two CZs"
   ]
  },
  {
   "cell_type": "code",
   "execution_count": null,
   "id": "030cfcfc",
   "metadata": {},
   "outputs": [],
   "source": [
    "from pytket.circuit import OpType\n",
    "\n",
    "circuit = Circuit(2)\n",
    "circuit.add_gate(OpType.CU1, 1.0, [0, 1])\n",
    "circuit.add_gate(OpType.CU1, 1.0, [0, 1])\n",
    "network = NISQNetwork(\n",
    "    [[0,1]],\n",
    "    {0: [0], 1: [1]}\n",
    ")\n",
    "render_circuit_jupyter(circuit)"
   ]
  },
  {
   "cell_type": "code",
   "execution_count": null,
   "id": "e344a07b-1ae0-4aa6-bbc4-5286b8fe3a65",
   "metadata": {},
   "outputs": [],
   "source": [
    "DQCPass().apply(circuit)\n",
    "dist_circ = HypergraphCircuit(circuit)\n",
    "distributor = HypergraphPartitioning()\n",
    "distribution = distributor.allocate(dist_circ, network)\n",
    "render_circuit_jupyter(circuit)"
   ]
  },
  {
   "cell_type": "code",
   "execution_count": null,
   "id": "93935b49",
   "metadata": {},
   "outputs": [],
   "source": [
    "bp_circuit = BipartiteCircuit(circuit, distribution.placement)\n",
    "render_circuit_jupyter(bp_circuit.packed_circuit)"
   ]
  },
  {
   "cell_type": "code",
   "execution_count": null,
   "id": "ed8051b7-79b0-4774-b1f1-f35c9d7a412f",
   "metadata": {},
   "outputs": [],
   "source": [
    "print(\"Ebit memory required per server:\")\n",
    "for server, mem in ebit_memory_required(bp_circuit.packed_circuit).items():\n",
    "    print(f\"\\tServer {server} requires {mem} memory qubits\")"
   ]
  },
  {
   "cell_type": "code",
   "execution_count": null,
   "id": "3e74c3ab-c8e8-47b1-aea4-c85309753b5b",
   "metadata": {},
   "outputs": [],
   "source": [
    "orig_qubits = circuit.qubits\n",
    "new_qubits = bp_circuit.packed_circuit.qubits\n",
    "qubit_mapping = {\n",
    "    orig_qubits[0] : new_qubits[0],\n",
    "    orig_qubits[1] : new_qubits[1],\n",
    "}\n",
    "if check_equivalence(circuit, bp_circuit.packed_circuit, qubit_mapping):\n",
    "    print(\"The circuit equality has been verified.\")\n",
    "else:\n",
    "    raise Exception(\"Circuit equality failed!\")"
   ]
  },
  {
   "cell_type": "markdown",
   "id": "66c204c7",
   "metadata": {},
   "source": [
    "### Two CZs (opposite controls)"
   ]
  },
  {
   "cell_type": "code",
   "execution_count": null,
   "id": "c43da0de",
   "metadata": {},
   "outputs": [],
   "source": [
    "circuit = Circuit(2)\n",
    "circuit.add_gate(OpType.CU1, 1.0, [0, 1])\n",
    "circuit.add_gate(OpType.CU1, 1.0, [1, 0])\n",
    "network = NISQNetwork(\n",
    "    [[0,1]],\n",
    "    {0: [0], 1: [1]}\n",
    ")\n",
    "render_circuit_jupyter(circuit)"
   ]
  },
  {
   "cell_type": "code",
   "execution_count": null,
   "id": "4d258aed-2e64-49fc-9116-dcde9441dee4",
   "metadata": {},
   "outputs": [],
   "source": [
    "DQCPass().apply(circuit)\n",
    "dist_circ = HypergraphCircuit(circuit)\n",
    "distributor = HypergraphPartitioning()\n",
    "distribution = distributor.allocate(dist_circ, network)\n",
    "render_circuit_jupyter(circuit)"
   ]
  },
  {
   "cell_type": "code",
   "execution_count": null,
   "id": "541324f2",
   "metadata": {},
   "outputs": [],
   "source": [
    "bp_circuit = BipartiteCircuit(circuit, distribution.placement)\n",
    "render_circuit_jupyter(bp_circuit.packed_circuit)"
   ]
  },
  {
   "cell_type": "code",
   "execution_count": null,
   "id": "ab1eb507-d53b-4464-a161-e6d02d1643b1",
   "metadata": {},
   "outputs": [],
   "source": [
    "print(\"Ebit memory required per server:\")\n",
    "for server, mem in ebit_memory_required(bp_circuit.packed_circuit).items():\n",
    "    print(f\"\\tServer {server} requires {mem} memory qubits\")"
   ]
  },
  {
   "cell_type": "code",
   "execution_count": null,
   "id": "396b447e-a602-40c1-b1bf-a3af433ae2b5",
   "metadata": {},
   "outputs": [],
   "source": [
    "orig_qubits = circuit.qubits\n",
    "new_qubits = bp_circuit.packed_circuit.qubits\n",
    "qubit_mapping = {\n",
    "    orig_qubits[0] : new_qubits[0],\n",
    "    orig_qubits[1] : new_qubits[2],\n",
    "}\n",
    "if check_equivalence(circuit, bp_circuit.packed_circuit, qubit_mapping):\n",
    "    print(\"The circuit equality has been verified.\")\n",
    "else:\n",
    "    raise Exception(\"Circuit equality failed!\")"
   ]
  },
  {
   "cell_type": "markdown",
   "id": "49711af1",
   "metadata": {},
   "source": [
    "### Two CZs with X in between"
   ]
  },
  {
   "cell_type": "code",
   "execution_count": null,
   "id": "14646926",
   "metadata": {},
   "outputs": [],
   "source": [
    "circuit = Circuit(2)\n",
    "circuit.add_gate(OpType.CU1, 1.0, [0, 1])\n",
    "circuit.H(0).Rz(1, 0).H(0)\n",
    "circuit.H(1).Rz(1, 1).H(1)\n",
    "circuit.add_gate(OpType.CU1, 1.0, [1, 0])\n",
    "network = NISQNetwork(\n",
    "    [[0,1]],\n",
    "    {0: [0], 1: [1]}\n",
    ")\n",
    "render_circuit_jupyter(circuit)"
   ]
  },
  {
   "cell_type": "code",
   "execution_count": null,
   "id": "cdda2408-dab1-4dff-a531-36482f7feeaf",
   "metadata": {},
   "outputs": [],
   "source": [
    "DQCPass().apply(circuit)\n",
    "dist_circ = HypergraphCircuit(circuit)\n",
    "distributor = HypergraphPartitioning()\n",
    "distribution = distributor.allocate(dist_circ, network)\n",
    "render_circuit_jupyter(circuit)"
   ]
  },
  {
   "cell_type": "code",
   "execution_count": null,
   "id": "c24515b8",
   "metadata": {},
   "outputs": [],
   "source": [
    "bp_circuit = BipartiteCircuit(circuit, distribution.placement)\n",
    "render_circuit_jupyter(bp_circuit.packed_circuit)"
   ]
  },
  {
   "cell_type": "code",
   "execution_count": null,
   "id": "5b8253c6-88cf-4a0a-acc5-4c0cb7141590",
   "metadata": {},
   "outputs": [],
   "source": [
    "print(\"Ebit memory required per server:\")\n",
    "for server, mem in ebit_memory_required(bp_circuit.packed_circuit).items():\n",
    "    print(f\"\\tServer {server} requires {mem} memory qubits\")"
   ]
  },
  {
   "cell_type": "code",
   "execution_count": null,
   "id": "ecab3283-a608-43e7-a43e-19af22066db5",
   "metadata": {},
   "outputs": [],
   "source": [
    "orig_qubits = circuit.qubits\n",
    "new_qubits = bp_circuit.packed_circuit.qubits\n",
    "qubit_mapping = {\n",
    "    orig_qubits[0] : new_qubits[2],\n",
    "    orig_qubits[1] : new_qubits[0],\n",
    "}\n",
    "if check_equivalence(circuit, bp_circuit.packed_circuit, qubit_mapping):\n",
    "    print(\"The circuit equality has been verified.\")\n",
    "else:\n",
    "    raise Exception(\"Circuit equality failed!\")"
   ]
  },
  {
   "cell_type": "markdown",
   "id": "bb474ff4",
   "metadata": {},
   "source": [
    "### Two CZs with non-packable in between"
   ]
  },
  {
   "cell_type": "code",
   "execution_count": null,
   "id": "95d6ec06",
   "metadata": {},
   "outputs": [],
   "source": [
    "circuit = Circuit(2)\n",
    "circuit.add_gate(OpType.CU1, 1.0, [0, 1])\n",
    "circuit.H(0).Rz(0.5, 0).H(0)\n",
    "circuit.H(1).Rz(0.5, 1).H(1)\n",
    "circuit.add_gate(OpType.CU1, 1.0, [1, 0])\n",
    "network = NISQNetwork(\n",
    "    [[0,1]],\n",
    "    {0: [0], 1: [1]}\n",
    ")\n",
    "render_circuit_jupyter(circuit)"
   ]
  },
  {
   "cell_type": "code",
   "execution_count": null,
   "id": "6eb453d9-5170-40fb-aee2-6a2e73572e4c",
   "metadata": {},
   "outputs": [],
   "source": [
    "DQCPass().apply(circuit)\n",
    "dist_circ = HypergraphCircuit(circuit)\n",
    "distributor = HypergraphPartitioning()\n",
    "distribution = distributor.allocate(dist_circ, network)\n",
    "render_circuit_jupyter(circuit)"
   ]
  },
  {
   "cell_type": "code",
   "execution_count": null,
   "id": "20e68384",
   "metadata": {},
   "outputs": [],
   "source": [
    "bp_circuit = BipartiteCircuit(circuit, distribution.placement)\n",
    "render_circuit_jupyter(bp_circuit.packed_circuit)"
   ]
  },
  {
   "cell_type": "code",
   "execution_count": null,
   "id": "ca92222b-8fdd-4a91-afa8-e0f17c68b66d",
   "metadata": {},
   "outputs": [],
   "source": [
    "print(\"Ebit memory required per server:\")\n",
    "for server, mem in ebit_memory_required(bp_circuit.packed_circuit).items():\n",
    "    print(f\"\\tServer {server} requires {mem} memory qubits\")"
   ]
  },
  {
   "cell_type": "code",
   "execution_count": null,
   "id": "c6f1ea4d-c7f3-4669-a3a4-1e0e9fccfd9f",
   "metadata": {},
   "outputs": [],
   "source": [
    "orig_qubits = circuit.qubits\n",
    "new_qubits = bp_circuit.packed_circuit.qubits\n",
    "qubit_mapping = {\n",
    "    orig_qubits[0] : new_qubits[3],\n",
    "    orig_qubits[1] : new_qubits[0],\n",
    "}\n",
    "if check_equivalence(circuit, bp_circuit.packed_circuit, qubit_mapping):\n",
    "    print(\"The circuit equality has been verified.\")\n",
    "else:\n",
    "    raise Exception(\"Circuit equality failed!\")"
   ]
  },
  {
   "cell_type": "markdown",
   "id": "2d297600",
   "metadata": {},
   "source": [
    "### Simple CZ cycle"
   ]
  },
  {
   "cell_type": "code",
   "execution_count": null,
   "id": "df76179a",
   "metadata": {},
   "outputs": [],
   "source": [
    "circuit = Circuit(3)\n",
    "circuit.add_gate(OpType.CU1, 1.0, [0, 1])\n",
    "circuit.add_gate(OpType.CU1, 1.0, [1, 2])\n",
    "circuit.add_gate(OpType.CU1, 1.0, [2, 0])\n",
    "network = NISQNetwork(\n",
    "    [[0,1], [1, 2]],\n",
    "    {0: [0], 1: [1], 2:[2]}\n",
    ")\n",
    "render_circuit_jupyter(circuit)"
   ]
  },
  {
   "cell_type": "code",
   "execution_count": null,
   "id": "e4533f7a-8822-4e86-86fe-ee49fee454e2",
   "metadata": {},
   "outputs": [],
   "source": [
    "DQCPass().apply(circuit)\n",
    "dist_circ = HypergraphCircuit(circuit)\n",
    "distributor = HypergraphPartitioning()\n",
    "distribution = distributor.allocate(dist_circ, network)\n",
    "render_circuit_jupyter(circuit)"
   ]
  },
  {
   "cell_type": "code",
   "execution_count": null,
   "id": "e41188ce",
   "metadata": {},
   "outputs": [],
   "source": [
    "bp_circuit = BipartiteCircuit(circuit, distribution.placement)\n",
    "render_circuit_jupyter(bp_circuit.packed_circuit)"
   ]
  },
  {
   "cell_type": "code",
   "execution_count": null,
   "id": "df4d52d3-3caa-4ebf-902c-a63f2994b704",
   "metadata": {},
   "outputs": [],
   "source": [
    "print(\"Ebit memory required per server:\")\n",
    "for server, mem in ebit_memory_required(bp_circuit.packed_circuit).items():\n",
    "    print(f\"\\tServer {server} requires {mem} memory qubits\")"
   ]
  },
  {
   "cell_type": "code",
   "execution_count": null,
   "id": "bc9f6363-deb6-4525-888b-90021d26ee13",
   "metadata": {},
   "outputs": [],
   "source": [
    "orig_qubits = circuit.qubits\n",
    "new_qubits = bp_circuit.packed_circuit.qubits\n",
    "qubit_mapping = {\n",
    "    orig_qubits[0] : new_qubits[0],\n",
    "    orig_qubits[1] : new_qubits[5],\n",
    "    orig_qubits[2] : new_qubits[3],\n",
    "}\n",
    "if check_equivalence(circuit, bp_circuit.packed_circuit, qubit_mapping):\n",
    "    print(\"The circuit equality has been verified.\")\n",
    "else:\n",
    "    raise Exception(\"Circuit equality failed!\")"
   ]
  },
  {
   "cell_type": "markdown",
   "id": "efa45272",
   "metadata": {},
   "source": [
    "### Complicated circuit"
   ]
  },
  {
   "cell_type": "code",
   "execution_count": null,
   "id": "5f21754c",
   "metadata": {},
   "outputs": [],
   "source": [
    "circuit = (\n",
    "    Circuit(6)\n",
    "    .add_gate(OpType.CU1, 1.0, [0, 3])\n",
    "    .add_gate(OpType.CU1, 1.0, [2, 3])\n",
    "    .add_gate(OpType.CU1, 1.0, [2, 4])\n",
    "    .H(2)\n",
    "    .add_gate(OpType.CU1, 1.0, [2, 5])\n",
    "    .add_gate(OpType.CU1, 1.0, [2, 4])\n",
    "    .add_gate(OpType.CU1, 1.0, [0, 3])\n",
    "    .add_gate(OpType.CU1, 1.0, [0, 4])\n",
    "    .H(3)\n",
    "    .add_gate(OpType.CU1, 1.0, [0, 5])\n",
    "    .H(0).Z(0).H(0)\n",
    "    .add_gate(OpType.CU1, 1.0, [0, 3])\n",
    ")\n",
    "# Transform.RebaseToQuil().apply(circuit)\n",
    "network = NISQNetwork([[0,1]], {0:[0,1,2], 1:[3,4,5]})\n",
    "render_circuit_jupyter(circuit)"
   ]
  },
  {
   "cell_type": "code",
   "execution_count": null,
   "id": "ac4e8638-b5fc-4a4a-8c3a-3e9e74d51efe",
   "metadata": {},
   "outputs": [],
   "source": [
    "DQCPass().apply(circuit)\n",
    "dist_circ = HypergraphCircuit(circuit)\n",
    "distributor = HypergraphPartitioning()\n",
    "distribution = distributor.allocate(dist_circ, network)\n",
    "render_circuit_jupyter(circuit)"
   ]
  },
  {
   "cell_type": "code",
   "execution_count": null,
   "id": "54f2ce92",
   "metadata": {},
   "outputs": [],
   "source": [
    "bp_circuit = BipartiteCircuit(circuit, distribution.placement)\n",
    "render_circuit_jupyter(bp_circuit.packed_circuit)"
   ]
  },
  {
   "cell_type": "code",
   "execution_count": null,
   "id": "a68db8a1",
   "metadata": {},
   "outputs": [],
   "source": [
    "print(\"Ebit memory required per server:\")\n",
    "for server, mem in ebit_memory_required(bp_circuit.packed_circuit).items():\n",
    "    print(f\"\\tServer {server} requires {mem} memory qubits\")"
   ]
  },
  {
   "cell_type": "code",
   "execution_count": null,
   "id": "e1474e27-f346-44fe-b3ea-5440aa76ef1a",
   "metadata": {},
   "outputs": [],
   "source": [
    "orig_qubits = circuit.qubits\n",
    "new_qubits = bp_circuit.packed_circuit.qubits\n",
    "qubit_mapping = {\n",
    "    orig_qubits[0] : new_qubits[5],\n",
    "    orig_qubits[1] : new_qubits[6],\n",
    "    orig_qubits[2] : new_qubits[0],\n",
    "    orig_qubits[3] : new_qubits[7],\n",
    "    orig_qubits[4] : new_qubits[1],\n",
    "    orig_qubits[5] : new_qubits[2],\n",
    "}\n",
    "if check_equivalence(circuit, bp_circuit.packed_circuit, qubit_mapping):\n",
    "    print(\"The circuit equality has been verified.\")\n",
    "else:\n",
    "    raise Exception(\"Circuit equality failed!\")"
   ]
  }
 ],
 "metadata": {
  "kernelspec": {
   "display_name": "base",
   "language": "python",
   "name": "base"
  },
  "language_info": {
   "codemirror_mode": {
    "name": "ipython",
    "version": 3
   },
   "file_extension": ".py",
   "mimetype": "text/x-python",
   "name": "python",
   "nbconvert_exporter": "python",
   "pygments_lexer": "ipython3",
   "version": "3.9.7"
  }
 },
 "nbformat": 4,
 "nbformat_minor": 5
}
