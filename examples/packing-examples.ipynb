{
 "cells": [
  {
   "cell_type": "markdown",
   "id": "865a8a79-5cf4-471d-9711-69b7c892db3d",
   "metadata": {
    "tags": []
   },
   "source": [
    "# Packing circuits\n",
    "\n",
    "This notebook looks at some examples of packing circuits to reduce their ancilla costs. In particular in these examples this problem is solved via the calculation of minimum vertex covers, which is done by not allowing 'evicted gates'.\n",
    "\n",
    "First, import the modules we need."
   ]
  },
  {
   "cell_type": "code",
   "execution_count": 1,
   "id": "bbdb006d-c4d7-48af-905c-09681fc98be9",
   "metadata": {
    "tags": []
   },
   "outputs": [],
   "source": [
    "from pytket import Circuit\n",
    "from pytket.circuit.display import render_circuit_jupyter\n",
    "from pytket_dqc.networks import NISQNetwork\n",
    "from pytket_dqc.distributors import GraphPartitioning, Annealing\n",
    "from pytket_dqc.circuits import DistributedCircuit, BipartiteCircuit\n",
    "from pytket.transform import Transform\n",
    "from pytket_dqc.utils.gateset import dqc_rebase"
   ]
  },
  {
   "cell_type": "markdown",
   "id": "a7c3b907-9ad7-4020-a29a-b21543de0600",
   "metadata": {},
   "source": [
    "## Trivial examples"
   ]
  },
  {
   "cell_type": "markdown",
   "id": "ab746ea4",
   "metadata": {},
   "source": [
    "### Two CZs"
   ]
  },
  {
   "cell_type": "code",
   "execution_count": 2,
   "id": "030cfcfc",
   "metadata": {},
   "outputs": [
    {
     "data": {
      "text/html": [
       "\n",
       "\n",
       "\n",
       "\n",
       "\n",
       "\n",
       "<iframe srcdoc=\"\n",
       "&lt;!DOCTYPE html&gt;\n",
       "&lt;html lang=&#34;en&#34;&gt;\n",
       "&lt;head&gt;\n",
       "    &lt;meta charset=&#34;UTF-8&#34;&gt;\n",
       "\n",
       "    &lt;script type=&#34;application/javascript&#34; src=&#34;https://cdn.jsdelivr.net/npm/vue@3&#34;&gt;&lt;/script&gt;\n",
       "    &lt;script type=&#34;application/javascript&#34; src=&#34;https://unpkg.com/pytket-circuit-renderer@0.2/dist/pytket-circuit-renderer.umd.js&#34;&gt;&lt;/script&gt;\n",
       "    &lt;link rel=&#34;stylesheet&#34; href=&#34;https://unpkg.com/pytket-circuit-renderer@0.2/dist/pytket-circuit-renderer.css&#34;&gt;\n",
       "&lt;/head&gt;\n",
       "&lt;body&gt;\n",
       "    &lt;div id=&#34;circuit-display-vue-container-bff510b7-6825-4109-8953-30a7a6b5e06d&#34; class=&#34;pytket-circuit-display-container&#34;&gt;\n",
       "        &lt;div style=&#34;display: none&#34;&gt;\n",
       "            &lt;div id=&#34;circuit-json-to-display&#34;&gt;{&#34;bits&#34;: [], &#34;commands&#34;: [{&#34;args&#34;: [[&#34;q&#34;, [0]]], &#34;op&#34;: {&#34;params&#34;: [&#34;-0.5&#34;], &#34;type&#34;: &#34;Rz&#34;}}, {&#34;args&#34;: [[&#34;q&#34;, [1]]], &#34;op&#34;: {&#34;params&#34;: [&#34;1.5&#34;], &#34;type&#34;: &#34;Rz&#34;}}, {&#34;args&#34;: [[&#34;q&#34;, [0]]], &#34;op&#34;: {&#34;params&#34;: [&#34;1.0&#34;], &#34;type&#34;: &#34;Rx&#34;}}, {&#34;args&#34;: [[&#34;q&#34;, [1]]], &#34;op&#34;: {&#34;params&#34;: [&#34;0.0&#34;], &#34;type&#34;: &#34;Rx&#34;}}, {&#34;args&#34;: [[&#34;q&#34;, [0]]], &#34;op&#34;: {&#34;params&#34;: [&#34;0.0&#34;], &#34;type&#34;: &#34;Rz&#34;}}, {&#34;args&#34;: [[&#34;q&#34;, [1]]], &#34;op&#34;: {&#34;params&#34;: [&#34;0.0&#34;], &#34;type&#34;: &#34;Rz&#34;}}, {&#34;args&#34;: [[&#34;q&#34;, [0]], [&#34;q&#34;, [1]]], &#34;op&#34;: {&#34;params&#34;: [&#34;-1.0&#34;], &#34;type&#34;: &#34;CRz&#34;}}, {&#34;args&#34;: [[&#34;q&#34;, [0]]], &#34;op&#34;: {&#34;params&#34;: [&#34;-0.5&#34;], &#34;type&#34;: &#34;Rz&#34;}}, {&#34;args&#34;: [[&#34;q&#34;, [1]]], &#34;op&#34;: {&#34;params&#34;: [&#34;-1.0&#34;], &#34;type&#34;: &#34;Rz&#34;}}, {&#34;args&#34;: [[&#34;q&#34;, [0]]], &#34;op&#34;: {&#34;params&#34;: [&#34;0.0&#34;], &#34;type&#34;: &#34;Rx&#34;}}, {&#34;args&#34;: [[&#34;q&#34;, [1]]], &#34;op&#34;: {&#34;params&#34;: [&#34;0.0&#34;], &#34;type&#34;: &#34;Rx&#34;}}, {&#34;args&#34;: [[&#34;q&#34;, [0]]], &#34;op&#34;: {&#34;params&#34;: [&#34;0.0&#34;], &#34;type&#34;: &#34;Rz&#34;}}, {&#34;args&#34;: [[&#34;q&#34;, [1]]], &#34;op&#34;: {&#34;params&#34;: [&#34;0.0&#34;], &#34;type&#34;: &#34;Rz&#34;}}, {&#34;args&#34;: [[&#34;q&#34;, [0]], [&#34;q&#34;, [1]]], &#34;op&#34;: {&#34;params&#34;: [&#34;-1.0&#34;], &#34;type&#34;: &#34;CRz&#34;}}, {&#34;args&#34;: [[&#34;q&#34;, [0]]], &#34;op&#34;: {&#34;params&#34;: [&#34;1.0&#34;], &#34;type&#34;: &#34;Rz&#34;}}, {&#34;args&#34;: [[&#34;q&#34;, [1]]], &#34;op&#34;: {&#34;params&#34;: [&#34;1.5&#34;], &#34;type&#34;: &#34;Rz&#34;}}, {&#34;args&#34;: [[&#34;q&#34;, [0]]], &#34;op&#34;: {&#34;params&#34;: [&#34;1.0&#34;], &#34;type&#34;: &#34;Rx&#34;}}, {&#34;args&#34;: [[&#34;q&#34;, [1]]], &#34;op&#34;: {&#34;params&#34;: [&#34;0.0&#34;], &#34;type&#34;: &#34;Rx&#34;}}, {&#34;args&#34;: [[&#34;q&#34;, [0]]], &#34;op&#34;: {&#34;params&#34;: [&#34;0.0&#34;], &#34;type&#34;: &#34;Rz&#34;}}, {&#34;args&#34;: [[&#34;q&#34;, [1]]], &#34;op&#34;: {&#34;params&#34;: [&#34;0.0&#34;], &#34;type&#34;: &#34;Rz&#34;}}], &#34;implicit_permutation&#34;: [[[&#34;q&#34;, [0]], [&#34;q&#34;, [0]]], [[&#34;q&#34;, [1]], [&#34;q&#34;, [1]]]], &#34;phase&#34;: &#34;0.5&#34;, &#34;qubits&#34;: [[&#34;q&#34;, [0]], [&#34;q&#34;, [1]]]}&lt;/div&gt;\n",
       "        &lt;/div&gt;\n",
       "        &lt;circuit-display-container :circuit-element-str=&#34;&#39;#circuit-json-to-display&#39;&#34;&gt;&lt;/circuit-display-container&gt;\n",
       "    &lt;/div&gt;\n",
       "\n",
       "    &lt;script type=&#34;application/javascript&#34;&gt;\n",
       "        const { createApp } = Vue;\n",
       "        const circuitDisplayContainer = window[&#34;pytket-circuit-renderer&#34;].default;\n",
       "\n",
       "        // Init variables to be shared between circuit display instances\n",
       "        if (typeof window.pytketCircuitDisplays === &#34;undefined&#34;) {\n",
       "            window.pytketCircuitDisplays = {};\n",
       "        }\n",
       "\n",
       "        const uid = &#34;bff510b7-6825-4109-8953-30a7a6b5e06d&#34;;\n",
       "\n",
       "        // Create the root Vue component\n",
       "        window.pytketCircuitDisplays[uid] = createApp({\n",
       "            delimiters: [&#39;[[#&#39;, &#39;#]]&#39;],\n",
       "            components: { circuitDisplayContainer },\n",
       "        }).mount(&#34;#circuit-display-vue-container-&#34;+uid);\n",
       "    &lt;/script&gt;\n",
       "&lt;/body&gt;\n",
       "&lt;/html&gt;\n",
       "\"\n",
       "        width=\"100%\" height=\"200px\"\n",
       "        style=\"border: none; outline: none; resize: vertical; overflow: auto\"></iframe>\n",
       "\n"
      ],
      "text/plain": [
       "<IPython.core.display.HTML object>"
      ]
     },
     "metadata": {},
     "output_type": "display_data"
    }
   ],
   "source": [
    "circuit0 = Circuit(2)\n",
    "circuit0.CZ(0,1)\n",
    "circuit0.CZ(0,1)\n",
    "dqc_rebase.apply(circuit0)\n",
    "network0 = NISQNetwork(\n",
    "    [[0,1]],\n",
    "    {0: [0], 1: [1]}\n",
    ")\n",
    "render_circuit_jupyter(circuit0)\n",
    "\n",
    "dist_circ0 = DistributedCircuit(circuit0)\n",
    "distributor = GraphPartitioning()\n",
    "placement0 = distributor.distribute(dist_circ0, network0)"
   ]
  },
  {
   "cell_type": "code",
   "execution_count": 3,
   "id": "93935b49",
   "metadata": {},
   "outputs": [
    {
     "ename": "AssertionError",
     "evalue": "\n                    This vertex has no link_qubit associated with it.\n                    Vertex register:<pytket_dqc.packing.packing.ExtendedRegister object at 0x17a9f7700>\n                    Qubit: Server 1[0]\n                    Linked Register: <pytket_dqc.packing.packing.ExtendedRegister object at 0x17a9f7730>\n                    N commands: 11\n                    N added commands: 1\n                    ",
     "output_type": "error",
     "traceback": [
      "\u001b[0;31m---------------------------------------------------------------------------\u001b[0m",
      "\u001b[0;31mAssertionError\u001b[0m                            Traceback (most recent call last)",
      "Input \u001b[0;32mIn [3]\u001b[0m, in \u001b[0;36m<cell line: 1>\u001b[0;34m()\u001b[0m\n\u001b[0;32m----> 1\u001b[0m bp_circuit0 \u001b[38;5;241m=\u001b[39m \u001b[43mBipartiteCircuit\u001b[49m\u001b[43m(\u001b[49m\u001b[43mcircuit0\u001b[49m\u001b[43m,\u001b[49m\u001b[43m \u001b[49m\u001b[43mplacement0\u001b[49m\u001b[43m)\u001b[49m\n\u001b[1;32m      2\u001b[0m render_circuit_jupyter(bp_circuit0\u001b[38;5;241m.\u001b[39mpacked_circuit)\n",
      "File \u001b[0;32m~/pytket-dqc/src/pytket_dqc/circuits/bipartite_circuit.py:48\u001b[0m, in \u001b[0;36mBipartiteCircuit.__init__\u001b[0;34m(self, circuit, placement)\u001b[0m\n\u001b[1;32m     46\u001b[0m \u001b[38;5;28mself\u001b[39m\u001b[38;5;241m.\u001b[39mextended_qubits \u001b[38;5;241m=\u001b[39m {}\n\u001b[1;32m     47\u001b[0m \u001b[38;5;28mself\u001b[39m\u001b[38;5;241m.\u001b[39mtop_vertices \u001b[38;5;241m=\u001b[39m \u001b[38;5;28;01mNone\u001b[39;00m\n\u001b[0;32m---> 48\u001b[0m \u001b[38;5;28;43mself\u001b[39;49m\u001b[38;5;241;43m.\u001b[39;49m\u001b[43mfrom_placed_circuit\u001b[49m\u001b[43m(\u001b[49m\u001b[43mcircuit\u001b[49m\u001b[43m)\u001b[49m\n",
      "File \u001b[0;32m~/pytket-dqc/src/pytket_dqc/circuits/bipartite_circuit.py:67\u001b[0m, in \u001b[0;36mBipartiteCircuit.from_placed_circuit\u001b[0;34m(self, circuit)\u001b[0m\n\u001b[1;32m     65\u001b[0m \u001b[38;5;28mself\u001b[39m\u001b[38;5;241m.\u001b[39mfind_matching()\n\u001b[1;32m     66\u001b[0m \u001b[38;5;28mself\u001b[39m\u001b[38;5;241m.\u001b[39mfind_mvc()\n\u001b[0;32m---> 67\u001b[0m \u001b[38;5;28;43mself\u001b[39;49m\u001b[38;5;241;43m.\u001b[39;49m\u001b[43mpack_circuit\u001b[49m\u001b[43m(\u001b[49m\u001b[43m)\u001b[49m\n",
      "File \u001b[0;32m~/pytket-dqc/src/pytket_dqc/circuits/bipartite_circuit.py:265\u001b[0m, in \u001b[0;36mBipartiteCircuit.pack_circuit\u001b[0;34m(self)\u001b[0m\n\u001b[1;32m    262\u001b[0m     \u001b[38;5;28mself\u001b[39m\u001b[38;5;241m.\u001b[39mpacked_circuit\u001b[38;5;241m.\u001b[39madd_qubit(qubit)\n\u001b[1;32m    264\u001b[0m \u001b[38;5;28;01mfor\u001b[39;00m extended_command \u001b[38;5;129;01min\u001b[39;00m \u001b[38;5;28mself\u001b[39m\u001b[38;5;241m.\u001b[39mextended_commands:\n\u001b[0;32m--> 265\u001b[0m     \u001b[38;5;28;43mself\u001b[39;49m\u001b[38;5;241;43m.\u001b[39;49m\u001b[43madd_extended_command_to_packed_circuit\u001b[49m\u001b[43m(\u001b[49m\u001b[43mextended_command\u001b[49m\u001b[43m)\u001b[49m\n",
      "File \u001b[0;32m~/pytket-dqc/src/pytket_dqc/circuits/bipartite_circuit.py:396\u001b[0m, in \u001b[0;36mBipartiteCircuit.add_extended_command_to_packed_circuit\u001b[0;34m(self, extended_command)\u001b[0m\n\u001b[1;32m    390\u001b[0m \u001b[38;5;28;01mfor\u001b[39;00m vertex \u001b[38;5;129;01min\u001b[39;00m extended_command\u001b[38;5;241m.\u001b[39mvertices:\n\u001b[1;32m    391\u001b[0m     \u001b[38;5;28;01mif\u001b[39;00m (\n\u001b[1;32m    392\u001b[0m         vertex\u001b[38;5;241m.\u001b[39mis_open\n\u001b[1;32m    393\u001b[0m         \u001b[38;5;129;01mand\u001b[39;00m vertex\u001b[38;5;241m.\u001b[39mvertex_index \u001b[38;5;129;01min\u001b[39;00m \u001b[38;5;28mself\u001b[39m\u001b[38;5;241m.\u001b[39mmvc\n\u001b[1;32m    394\u001b[0m         \u001b[38;5;129;01mand\u001b[39;00m vertex\u001b[38;5;241m.\u001b[39madded_all_nonlocal_czs()\n\u001b[1;32m    395\u001b[0m     ):\n\u001b[0;32m--> 396\u001b[0m         \u001b[38;5;28;01massert\u001b[39;00m vertex\u001b[38;5;241m.\u001b[39mlink_qubit \u001b[38;5;129;01mis\u001b[39;00m \u001b[38;5;129;01mnot\u001b[39;00m \u001b[38;5;28;01mNone\u001b[39;00m,\\\n\u001b[1;32m    397\u001b[0m             \u001b[38;5;124mf\u001b[39m\u001b[38;5;124m\"\"\"\u001b[39m\n\u001b[1;32m    398\u001b[0m \u001b[38;5;124m            This vertex has no link_qubit associated with it.\u001b[39m\n\u001b[1;32m    399\u001b[0m \u001b[38;5;124m            Vertex register:\u001b[39m\u001b[38;5;132;01m{\u001b[39;00mvertex\u001b[38;5;241m.\u001b[39mget_register()\u001b[38;5;132;01m}\u001b[39;00m\n\u001b[1;32m    400\u001b[0m \u001b[38;5;124m            Qubit: \u001b[39m\u001b[38;5;132;01m{\u001b[39;00mvertex\u001b[38;5;241m.\u001b[39mextended_qubit\u001b[38;5;241m.\u001b[39mqubit\u001b[38;5;132;01m}\u001b[39;00m\n\u001b[1;32m    401\u001b[0m \u001b[38;5;124m            Linked Register: \u001b[39m\u001b[38;5;132;01m{\u001b[39;00mvertex\u001b[38;5;241m.\u001b[39mlinked_register\u001b[38;5;132;01m}\u001b[39;00m\n\u001b[1;32m    402\u001b[0m \u001b[38;5;124m            N commands: \u001b[39m\u001b[38;5;132;01m{\u001b[39;00m\u001b[38;5;28mlen\u001b[39m(vertex\u001b[38;5;241m.\u001b[39mextended_commands)\u001b[38;5;132;01m}\u001b[39;00m\n\u001b[1;32m    403\u001b[0m \u001b[38;5;124m            N added commands: \u001b[39m\u001b[38;5;132;01m{\u001b[39;00m\u001b[38;5;28mlen\u001b[39m(vertex\u001b[38;5;241m.\u001b[39madded_extended_commands)\u001b[38;5;132;01m}\u001b[39;00m\n\u001b[1;32m    404\u001b[0m \u001b[38;5;124m            \u001b[39m\u001b[38;5;124m\"\"\"\u001b[39m\n\u001b[1;32m    405\u001b[0m         link_qubit \u001b[38;5;241m=\u001b[39m vertex\u001b[38;5;241m.\u001b[39mlink_qubit\n\u001b[1;32m    406\u001b[0m         link_qubit\u001b[38;5;241m.\u001b[39mend_packing()\n",
      "\u001b[0;31mAssertionError\u001b[0m: \n                    This vertex has no link_qubit associated with it.\n                    Vertex register:<pytket_dqc.packing.packing.ExtendedRegister object at 0x17a9f7700>\n                    Qubit: Server 1[0]\n                    Linked Register: <pytket_dqc.packing.packing.ExtendedRegister object at 0x17a9f7730>\n                    N commands: 11\n                    N added commands: 1\n                    "
     ]
    }
   ],
   "source": [
    "bp_circuit0 = BipartiteCircuit(circuit0, placement0)\n",
    "render_circuit_jupyter(bp_circuit0.packed_circuit)"
   ]
  },
  {
   "cell_type": "markdown",
   "id": "66c204c7",
   "metadata": {},
   "source": [
    "### Two CZs (opposite controls)"
   ]
  },
  {
   "cell_type": "code",
   "execution_count": null,
   "id": "c43da0de",
   "metadata": {},
   "outputs": [],
   "source": [
    "circuit1 = Circuit(2)\n",
    "circuit1.CZ(0,1)\n",
    "circuit1.CZ(1,0)\n",
    "network1 = NISQNetwork(\n",
    "    [[0,1]],\n",
    "    {0: [0], 1: [1]}\n",
    ")\n",
    "render_circuit_jupyter(circuit1)\n",
    "\n",
    "dist_circ1 = DistributedCircuit(circuit1)\n",
    "distributor = GraphPartitioning()\n",
    "placement1 = distributor.distribute(dist_circ1, network1)"
   ]
  },
  {
   "cell_type": "code",
   "execution_count": null,
   "id": "541324f2",
   "metadata": {},
   "outputs": [],
   "source": [
    "bp_circuit1 = BipartiteCircuit(circuit1, placement1)\n",
    "render_circuit_jupyter(bp_circuit1.packed_circuit)"
   ]
  },
  {
   "cell_type": "markdown",
   "id": "49711af1",
   "metadata": {},
   "source": [
    "### Two CZs with X in between"
   ]
  },
  {
   "cell_type": "code",
   "execution_count": null,
   "id": "14646926",
   "metadata": {},
   "outputs": [],
   "source": [
    "circuit2 = Circuit(2)\n",
    "circuit2.CZ(0,1)\n",
    "circuit2.Rx(1, 0)\n",
    "circuit2.Rx(1, 1)\n",
    "circuit2.CZ(1,0)\n",
    "network2 = NISQNetwork(\n",
    "    [[0,1]],\n",
    "    {0: [0], 1: [1]}\n",
    ")\n",
    "render_circuit_jupyter(circuit2)\n",
    "\n",
    "dist_circ2 = DistributedCircuit(circuit2)\n",
    "distributor2 = GraphPartitioning()\n",
    "placement2 = distributor.distribute(dist_circ2, network2)"
   ]
  },
  {
   "cell_type": "code",
   "execution_count": null,
   "id": "c24515b8",
   "metadata": {},
   "outputs": [],
   "source": [
    "bp_circuit2 = BipartiteCircuit(circuit2, placement2)\n",
    "render_circuit_jupyter(bp_circuit2.packed_circuit)"
   ]
  },
  {
   "cell_type": "markdown",
   "id": "bb474ff4",
   "metadata": {},
   "source": [
    "### Two CZs with non-packable in between"
   ]
  },
  {
   "cell_type": "code",
   "execution_count": null,
   "id": "95d6ec06",
   "metadata": {},
   "outputs": [],
   "source": [
    "circuit3 = Circuit(2)\n",
    "circuit3.CZ(0,1)\n",
    "circuit3.Rx(0.5, 0)\n",
    "circuit3.Rx(0.5, 1)\n",
    "circuit3.CZ(1,0)\n",
    "network3 = NISQNetwork(\n",
    "    [[0,1]],\n",
    "    {0: [0], 1: [1]}\n",
    ")\n",
    "render_circuit_jupyter(circuit3)\n",
    "\n",
    "dist_circ3 = DistributedCircuit(circuit3)\n",
    "distributor = GraphPartitioning()\n",
    "placement3 = distributor.distribute(dist_circ3, network3)"
   ]
  },
  {
   "cell_type": "code",
   "execution_count": null,
   "id": "20e68384",
   "metadata": {},
   "outputs": [],
   "source": [
    "bp_circuit3 = BipartiteCircuit(circuit3, placement3)\n",
    "render_circuit_jupyter(bp_circuit3.packed_circuit)"
   ]
  },
  {
   "cell_type": "markdown",
   "id": "2d297600",
   "metadata": {},
   "source": [
    "### Simple CZ cycle"
   ]
  },
  {
   "cell_type": "code",
   "execution_count": null,
   "id": "df76179a",
   "metadata": {},
   "outputs": [],
   "source": [
    "circuit4 = Circuit(3)\n",
    "circuit4.CZ(0, 1)\n",
    "circuit4.CZ(1, 2)\n",
    "circuit4.CZ(2, 0)\n",
    "network4 = NISQNetwork(\n",
    "    [[0,1], [1, 2]],\n",
    "    {0: [0], 1: [1], 2:[2]}\n",
    ")\n",
    "render_circuit_jupyter(circuit4)\n",
    "\n",
    "dist_circ4 = DistributedCircuit(circuit4)\n",
    "distributor = GraphPartitioning()\n",
    "placement4 = distributor.distribute(dist_circ4, network4)"
   ]
  },
  {
   "cell_type": "code",
   "execution_count": null,
   "id": "e41188ce",
   "metadata": {},
   "outputs": [],
   "source": [
    "bp_circuit4 = BipartiteCircuit(circuit4, placement4)\n",
    "render_circuit_jupyter(bp_circuit4.packed_circuit)"
   ]
  },
  {
   "cell_type": "markdown",
   "id": "efa45272",
   "metadata": {},
   "source": [
    "### Complicated circuit"
   ]
  },
  {
   "cell_type": "code",
   "execution_count": null,
   "id": "5f21754c",
   "metadata": {},
   "outputs": [],
   "source": [
    "circuit5 = Circuit(6)\n",
    "circuit5.CZ(0, 3).CZ(2, 3).CZ(2, 4).H(2).CZ(2, 5).CZ(2, 4).CZ(0, 3).CZ(0, 4).H(3).CZ(0, 5).X(0).CZ(0, 3)\n",
    "Transform.RebaseToQuil().apply(circuit5)\n",
    "network5 = NISQNetwork([[0,1]], {0:[0,1,2], 1:[3,4,5]})\n",
    "render_circuit_jupyter(circuit5)\n",
    "\n",
    "dist_circ5 = DistributedCircuit(circuit5)\n",
    "distributor = GraphPartitioning()\n",
    "placement5 = distributor.distribute(dist_circ5, network5)"
   ]
  },
  {
   "cell_type": "code",
   "execution_count": null,
   "id": "54f2ce92",
   "metadata": {},
   "outputs": [],
   "source": [
    "bp_circuit5 = BipartiteCircuit(circuit5, placement5)\n",
    "render_circuit_jupyter(bp_circuit5.packed_circuit)"
   ]
  },
  {
   "cell_type": "code",
   "execution_count": null,
   "id": "a68db8a1",
   "metadata": {},
   "outputs": [],
   "source": []
  }
 ],
 "metadata": {
  "kernelspec": {
   "display_name": "Python 3 (ipykernel)",
   "language": "python",
   "name": "python3"
  },
  "language_info": {
   "codemirror_mode": {
    "name": "ipython",
    "version": 3
   },
   "file_extension": ".py",
   "mimetype": "text/x-python",
   "name": "python",
   "nbconvert_exporter": "python",
   "pygments_lexer": "ipython3",
   "version": "3.9.10"
  }
 },
 "nbformat": 4,
 "nbformat_minor": 5
}
