{
 "cells": [
  {
   "cell_type": "code",
   "execution_count": null,
   "id": "bbdb006d-c4d7-48af-905c-09681fc98be9",
   "metadata": {
    "tags": []
   },
   "outputs": [],
   "source": [
    "from pytket import Circuit\n",
    "from pytket.circuit.display import render_circuit_jupyter\n",
    "from pytket_dqc.networks import NISQNetwork\n",
    "from pytket_dqc.distributors import GraphPartitioning, Annealing\n",
    "from pytket_dqc.circuits import DistributedCircuit, BipartiteCircuit\n",
    "from pytket.transform import Transform\n",
    "from pytket_dqc.utils.gateset import dqc_rebase"
   ]
  },
  {
   "cell_type": "markdown",
   "id": "a7c3b907-9ad7-4020-a29a-b21543de0600",
   "metadata": {},
   "source": [
    "## Trivial examples"
   ]
  },
  {
   "cell_type": "markdown",
   "id": "ab746ea4",
   "metadata": {},
   "source": [
    "### Two CZs"
   ]
  },
  {
   "cell_type": "code",
   "execution_count": null,
   "id": "030cfcfc",
   "metadata": {},
   "outputs": [],
   "source": [
    "circuit0 = Circuit(2)\n",
    "circuit0.CZ(0,1)\n",
    "circuit0.CZ(0,1)\n",
    "dqc_rebase.apply(circuit0)\n",
    "network0 = NISQNetwork(\n",
    "    [[0,1]],\n",
    "    {0: [0], 1: [1]}\n",
    ")\n",
    "render_circuit_jupyter(circuit0)\n",
    "\n",
    "dist_circ0 = DistributedCircuit(circuit0)\n",
    "distributor = GraphPartitioning()\n",
    "placement0 = distributor.distribute(dist_circ0, network0)"
   ]
  },
  {
   "cell_type": "code",
   "execution_count": null,
   "id": "93935b49",
   "metadata": {},
   "outputs": [],
   "source": [
    "bp_circuit0 = BipartiteCircuit(circuit0, placement0)\n",
    "render_circuit_jupyter(bp_circuit0.packed_circuit)"
   ]
  },
  {
   "cell_type": "markdown",
   "id": "66c204c7",
   "metadata": {},
   "source": [
    "### Two CZs (opposite controls)"
   ]
  },
  {
   "cell_type": "code",
   "execution_count": null,
   "id": "c43da0de",
   "metadata": {},
   "outputs": [],
   "source": [
    "circuit1 = Circuit(2)\n",
    "circuit1.CZ(0,1)\n",
    "circuit1.CZ(1,0)\n",
    "dqc_rebase.apply(circuit1)\n",
    "network1 = NISQNetwork(\n",
    "    [[0,1]],\n",
    "    {0: [0], 1: [1]}\n",
    ")\n",
    "render_circuit_jupyter(circuit1)\n",
    "\n",
    "dist_circ1 = DistributedCircuit(circuit1)\n",
    "distributor = GraphPartitioning()\n",
    "placement1 = distributor.distribute(dist_circ1, network1)"
   ]
  },
  {
   "cell_type": "code",
   "execution_count": null,
   "id": "541324f2",
   "metadata": {},
   "outputs": [],
   "source": [
    "bp_circuit1 = BipartiteCircuit(circuit1, placement1)\n",
    "render_circuit_jupyter(bp_circuit1.packed_circuit)"
   ]
  },
  {
   "cell_type": "markdown",
   "id": "49711af1",
   "metadata": {},
   "source": [
    "### Two CZs with X in between"
   ]
  },
  {
   "cell_type": "code",
   "execution_count": null,
   "id": "14646926",
   "metadata": {},
   "outputs": [],
   "source": [
    "circuit2 = Circuit(2)\n",
    "circuit2.CZ(0,1)\n",
    "circuit2.Rx(1, 0)\n",
    "circuit2.Rx(1, 1)\n",
    "circuit2.CZ(1,0)\n",
    "dqc_rebase.apply(circuit2)\n",
    "network2 = NISQNetwork(\n",
    "    [[0,1]],\n",
    "    {0: [0], 1: [1]}\n",
    ")\n",
    "render_circuit_jupyter(circuit2)\n",
    "\n",
    "dist_circ2 = DistributedCircuit(circuit2)\n",
    "distributor = GraphPartitioning()\n",
    "placement2 = distributor.distribute(dist_circ2, network2)"
   ]
  },
  {
   "cell_type": "code",
   "execution_count": null,
   "id": "c24515b8",
   "metadata": {},
   "outputs": [],
   "source": [
    "bp_circuit2 = BipartiteCircuit(circuit2, placement2)\n",
    "render_circuit_jupyter(bp_circuit2.packed_circuit)"
   ]
  },
  {
   "cell_type": "markdown",
   "id": "bb474ff4",
   "metadata": {},
   "source": [
    "### Two CZs with non-packable in between"
   ]
  },
  {
   "cell_type": "code",
   "execution_count": null,
   "id": "95d6ec06",
   "metadata": {},
   "outputs": [],
   "source": [
    "circuit3 = Circuit(2)\n",
    "circuit3.CZ(0,1)\n",
    "circuit3.Rx(0.5, 0)\n",
    "circuit3.Rx(0.5, 1)\n",
    "circuit3.CZ(1,0)\n",
    "dqc_rebase.apply(circuit3)\n",
    "network3 = NISQNetwork(\n",
    "    [[0,1]],\n",
    "    {0: [0], 1: [1]}\n",
    ")\n",
    "render_circuit_jupyter(circuit3)\n",
    "\n",
    "dist_circ3 = DistributedCircuit(circuit3)\n",
    "distributor = GraphPartitioning()\n",
    "placement3 = distributor.distribute(dist_circ3, network3)"
   ]
  },
  {
   "cell_type": "code",
   "execution_count": null,
   "id": "20e68384",
   "metadata": {},
   "outputs": [],
   "source": [
    "bp_circuit3 = BipartiteCircuit(circuit3, placement3)\n",
    "render_circuit_jupyter(bp_circuit3.packed_circuit)"
   ]
  },
  {
   "cell_type": "markdown",
   "id": "2d297600",
   "metadata": {},
   "source": [
    "### Simple CZ cycle"
   ]
  },
  {
   "cell_type": "code",
   "execution_count": null,
   "id": "df76179a",
   "metadata": {},
   "outputs": [],
   "source": [
    "circuit4 = Circuit(3)\n",
    "circuit4.CZ(0, 1)\n",
    "circuit4.CZ(1, 2)\n",
    "circuit4.CZ(2, 0)\n",
    "dqc_rebase.apply(circuit4)\n",
    "network4 = NISQNetwork(\n",
    "    [[0,1], [1, 2]],\n",
    "    {0: [0], 1: [1], 2:[2]}\n",
    ")\n",
    "render_circuit_jupyter(circuit4)\n",
    "\n",
    "dist_circ4 = DistributedCircuit(circuit4)\n",
    "distributor = GraphPartitioning()\n",
    "placement4 = distributor.distribute(dist_circ4, network4)"
   ]
  },
  {
   "cell_type": "code",
   "execution_count": null,
   "id": "e41188ce",
   "metadata": {},
   "outputs": [],
   "source": [
    "bp_circuit4 = BipartiteCircuit(circuit4, placement4)\n",
    "render_circuit_jupyter(bp_circuit4.packed_circuit)"
   ]
  },
  {
   "cell_type": "markdown",
   "id": "efa45272",
   "metadata": {},
   "source": [
    "### Complicated circuit"
   ]
  },
  {
   "cell_type": "code",
   "execution_count": null,
   "id": "5f21754c",
   "metadata": {},
   "outputs": [],
   "source": [
    "circuit5 = Circuit(6)\n",
    "circuit5.CZ(0, 3).CZ(2, 3).CZ(2, 4).H(2).CZ(2, 5).CZ(2, 4).CZ(0, 3).CZ(0, 4).H(3).CZ(0, 5).X(0).CZ(0, 3)\n",
    "dqc_rebase.apply(circuit5)\n",
    "network5 = NISQNetwork([[0,1]], {0:[0,1,2], 1:[3,4,5]})\n",
    "render_circuit_jupyter(circuit5)\n",
    "\n",
    "dist_circ5 = DistributedCircuit(circuit5)\n",
    "distributor = GraphPartitioning()\n",
    "placement5 = distributor.distribute(dist_circ5, network5)"
   ]
  },
  {
   "cell_type": "code",
   "execution_count": null,
   "id": "54f2ce92",
   "metadata": {},
   "outputs": [],
   "source": [
    "bp_circuit5 = BipartiteCircuit(circuit5, placement5)\n",
    "render_circuit_jupyter(bp_circuit5.packed_circuit)"
   ]
  }
 ],
 "metadata": {
  "kernelspec": {
   "display_name": "Python 3.9.10 64-bit ('pytket-dqc')",
   "language": "python",
   "name": "python3"
  },
  "language_info": {
   "codemirror_mode": {
    "name": "ipython",
    "version": 3
   },
   "file_extension": ".py",
   "mimetype": "text/x-python",
   "name": "python",
   "nbconvert_exporter": "python",
   "pygments_lexer": "ipython3",
   "version": "3.9.10"
  },
  "vscode": {
   "interpreter": {
    "hash": "e7d11d6e0faa46b02a2a8bad39190e058dde830387c381b5ae62868fa6ca3420"
   }
  }
 },
 "nbformat": 4,
 "nbformat_minor": 5
}
