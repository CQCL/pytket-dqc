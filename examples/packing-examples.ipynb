{
 "cells": [
  {
   "cell_type": "markdown",
   "id": "865a8a79-5cf4-471d-9711-69b7c892db3d",
   "metadata": {
    "tags": []
   },
   "source": [
    "# Packing circuits\n",
    "\n",
    "This notebook looks at some examples of packing circuits to reduce their ancilla costs. In particular in these examples this problem is solved via the calculation of minimum vertex covers, which is done by not allowing 'evicted gates'.\n",
    "\n",
    "First, import the modules we need."
   ]
  },
  {
   "cell_type": "code",
   "execution_count": null,
   "id": "bbdb006d-c4d7-48af-905c-09681fc98be9",
   "metadata": {
    "tags": []
   },
   "outputs": [],
   "source": [
    "from pytket import Circuit\n",
    "from pytket.circuit.display import render_circuit_jupyter\n",
    "from pytket_dqc.networks import NISQNetwork\n",
    "from pytket_dqc.distributors import GraphPartitioning, Annealing\n",
    "from pytket_dqc.circuits import DistributedCircuit, BipartiteCircuit\n",
    "from pytket_dqc.utils import ebit_memory_required\n",
    "from pytket.transform import Transform"
   ]
  },
  {
   "cell_type": "markdown",
   "id": "a7c3b907-9ad7-4020-a29a-b21543de0600",
   "metadata": {},
   "source": [
    "## Trivial examples"
   ]
  },
  {
   "cell_type": "markdown",
   "id": "ab746ea4",
   "metadata": {},
   "source": [
    "### Two CZs"
   ]
  },
  {
   "cell_type": "code",
   "execution_count": null,
   "id": "030cfcfc",
   "metadata": {},
   "outputs": [],
   "source": [
    "circuit = Circuit(2)\n",
    "circuit.CZ(0,1)\n",
    "circuit.CZ(0,1)\n",
    "network = NISQNetwork(\n",
    "    [[0,1]],\n",
    "    {0: [0], 1: [1]}\n",
    ")\n",
    "render_circuit_jupyter(circuit)\n",
    "\n",
    "dist_circ = DistributedCircuit(circuit)\n",
    "distributor = GraphPartitioning()\n",
    "placement = distributor.distribute(dist_circ, network)"
   ]
  },
  {
   "cell_type": "code",
   "execution_count": null,
   "id": "93935b49",
   "metadata": {},
   "outputs": [],
   "source": [
    "bp_circuit = BipartiteCircuit(circuit, placement)\n",
    "render_circuit_jupyter(bp_circuit.packed_circuit)"
   ]
  },
  {
   "cell_type": "code",
   "execution_count": null,
   "id": "ed8051b7-79b0-4774-b1f1-f35c9d7a412f",
   "metadata": {},
   "outputs": [],
   "source": [
    "print(\"Ebit memory required per server:\")\n",
    "for server, mem in ebit_memory_required(bp_circuit.packed_circuit).items():\n",
    "    print(f\"\\tServer {server} requires {mem} memory qubits\")"
   ]
  },
  {
   "cell_type": "markdown",
   "id": "66c204c7",
   "metadata": {},
   "source": [
    "### Two CZs (opposite controls)"
   ]
  },
  {
   "cell_type": "code",
   "execution_count": null,
   "id": "c43da0de",
   "metadata": {},
   "outputs": [],
   "source": [
    "circuit = Circuit(2)\n",
    "circuit.CZ(0,1)\n",
    "circuit.CZ(1,0)\n",
    "network = NISQNetwork(\n",
    "    [[0,1]],\n",
    "    {0: [0], 1: [1]}\n",
    ")\n",
    "render_circuit_jupyter(circuit)\n",
    "\n",
    "dist_circ = DistributedCircuit(circuit)\n",
    "distributor = GraphPartitioning()\n",
    "placement = distributor.distribute(dist_circ, network)"
   ]
  },
  {
   "cell_type": "code",
   "execution_count": null,
   "id": "541324f2",
   "metadata": {},
   "outputs": [],
   "source": [
    "bp_circuit = BipartiteCircuit(circuit, placement)\n",
    "render_circuit_jupyter(bp_circuit.packed_circuit)"
   ]
  },
  {
   "cell_type": "code",
   "execution_count": null,
   "id": "ab1eb507-d53b-4464-a161-e6d02d1643b1",
   "metadata": {},
   "outputs": [],
   "source": [
    "print(\"Ebit memory required per server:\")\n",
    "for server, mem in ebit_memory_required(bp_circuit.packed_circuit).items():\n",
    "    print(f\"\\tServer {server} requires {mem} memory qubits\")"
   ]
  },
  {
   "cell_type": "markdown",
   "id": "49711af1",
   "metadata": {},
   "source": [
    "### Two CZs with X in between"
   ]
  },
  {
   "cell_type": "code",
   "execution_count": null,
   "id": "14646926",
   "metadata": {},
   "outputs": [],
   "source": [
    "circuit = Circuit(2)\n",
    "circuit.CZ(0,1)\n",
    "circuit.Rx(1, 0)\n",
    "circuit.Rx(1, 1)\n",
    "circuit.CZ(1,0)\n",
    "network = NISQNetwork(\n",
    "    [[0,1]],\n",
    "    {0: [0], 1: [1]}\n",
    ")\n",
    "render_circuit_jupyter(circuit)\n",
    "\n",
    "dist_circ = DistributedCircuit(circuit)\n",
    "distributor = GraphPartitioning()\n",
    "placement = distributor.distribute(dist_circ, network)"
   ]
  },
  {
   "cell_type": "code",
   "execution_count": null,
   "id": "c24515b8",
   "metadata": {},
   "outputs": [],
   "source": [
    "bp_circuit = BipartiteCircuit(circuit, placement)\n",
    "render_circuit_jupyter(bp_circuit.packed_circuit)"
   ]
  },
  {
   "cell_type": "code",
   "execution_count": null,
   "id": "5b8253c6-88cf-4a0a-acc5-4c0cb7141590",
   "metadata": {},
   "outputs": [],
   "source": [
    "print(\"Ebit memory required per server:\")\n",
    "for server, mem in ebit_memory_required(bp_circuit.packed_circuit).items():\n",
    "    print(f\"\\tServer {server} requires {mem} memory qubits\")"
   ]
  },
  {
   "cell_type": "markdown",
   "id": "bb474ff4",
   "metadata": {},
   "source": [
    "### Two CZs with non-packable in between"
   ]
  },
  {
   "cell_type": "code",
   "execution_count": null,
   "id": "95d6ec06",
   "metadata": {},
   "outputs": [],
   "source": [
    "circuit = Circuit(2)\n",
    "circuit.CZ(0,1)\n",
    "circuit.Rx(0.5, 0)\n",
    "circuit.Rx(0.5, 1)\n",
    "circuit.CZ(1,0)\n",
    "network = NISQNetwork(\n",
    "    [[0,1]],\n",
    "    {0: [0], 1: [1]}\n",
    ")\n",
    "render_circuit_jupyter(circuit)\n",
    "\n",
    "dist_circ = DistributedCircuit(circuit)\n",
    "distributor = GraphPartitioning()\n",
    "placement = distributor.distribute(dist_circ, network)"
   ]
  },
  {
   "cell_type": "code",
   "execution_count": null,
   "id": "20e68384",
   "metadata": {},
   "outputs": [],
   "source": [
    "bp_circuit = BipartiteCircuit(circuit, placement)\n",
    "render_circuit_jupyter(bp_circuit.packed_circuit)"
   ]
  },
  {
   "cell_type": "code",
   "execution_count": null,
   "id": "ca92222b-8fdd-4a91-afa8-e0f17c68b66d",
   "metadata": {},
   "outputs": [],
   "source": [
    "print(\"Ebit memory required per server:\")\n",
    "for server, mem in ebit_memory_required(bp_circuit.packed_circuit).items():\n",
    "    print(f\"\\tServer {server} requires {mem} memory qubits\")"
   ]
  },
  {
   "cell_type": "markdown",
   "id": "2d297600",
   "metadata": {},
   "source": [
    "### Simple CZ cycle"
   ]
  },
  {
   "cell_type": "code",
   "execution_count": null,
   "id": "df76179a",
   "metadata": {},
   "outputs": [],
   "source": [
    "circuit = Circuit(3)\n",
    "circuit.CZ(0, 1)\n",
    "circuit.CZ(1, 2)\n",
    "circuit.CZ(2, 0)\n",
    "network = NISQNetwork(\n",
    "    [[0,1], [1, 2]],\n",
    "    {0: [0], 1: [1], 2:[2]}\n",
    ")\n",
    "render_circuit_jupyter(circuit)\n",
    "\n",
    "dist_circ = DistributedCircuit(circuit)\n",
    "distributor = GraphPartitioning()\n",
    "placement = distributor.distribute(dist_circ, network)"
   ]
  },
  {
   "cell_type": "code",
   "execution_count": null,
   "id": "e41188ce",
   "metadata": {},
   "outputs": [],
   "source": [
    "bp_circuit = BipartiteCircuit(circuit, placement)\n",
    "render_circuit_jupyter(bp_circuit.packed_circuit)"
   ]
  },
  {
   "cell_type": "code",
   "execution_count": null,
   "id": "df4d52d3-3caa-4ebf-902c-a63f2994b704",
   "metadata": {},
   "outputs": [],
   "source": [
    "print(\"Ebit memory required per server:\")\n",
    "for server, mem in ebit_memory_required(bp_circuit.packed_circuit).items():\n",
    "    print(f\"\\tServer {server} requires {mem} memory qubits\")"
   ]
  },
  {
   "cell_type": "markdown",
   "id": "efa45272",
   "metadata": {},
   "source": [
    "### Complicated circuit"
   ]
  },
  {
   "cell_type": "code",
   "execution_count": null,
   "id": "5f21754c",
   "metadata": {},
   "outputs": [],
   "source": [
    "circuit = Circuit(6)\n",
    "circuit.CZ(0, 3).CZ(2, 3).CZ(2, 4).H(2).CZ(2, 5).CZ(2, 4).CZ(0, 3).CZ(0, 4).H(3).CZ(0, 5).X(0).CZ(0, 3)\n",
    "Transform.RebaseToQuil().apply(circuit)\n",
    "network = NISQNetwork([[0,1]], {0:[0,1,2], 1:[3,4,5]})\n",
    "render_circuit_jupyter(circuit)\n",
    "\n",
    "dist_circ = DistributedCircuit(circuit)\n",
    "distributor = GraphPartitioning()\n",
    "placement = distributor.distribute(dist_circ, network)"
   ]
  },
  {
   "cell_type": "code",
   "execution_count": null,
   "id": "54f2ce92",
   "metadata": {},
   "outputs": [],
   "source": [
    "bp_circuit = BipartiteCircuit(circuit, placement)\n",
    "render_circuit_jupyter(bp_circuit.packed_circuit)"
   ]
  },
  {
   "cell_type": "code",
   "execution_count": null,
   "id": "a68db8a1",
   "metadata": {},
   "outputs": [],
   "source": [
    "print(\"Ebit memory required per server:\")\n",
    "for server, mem in ebit_memory_required(bp_circuit.packed_circuit).items():\n",
    "    print(f\"\\tServer {server} requires {mem} memory qubits\")"
   ]
  }
 ],
 "metadata": {
  "kernelspec": {
   "display_name": "base",
   "language": "python",
   "name": "base"
  },
  "language_info": {
   "codemirror_mode": {
    "name": "ipython",
    "version": 3
   },
   "file_extension": ".py",
   "mimetype": "text/x-python",
   "name": "python",
   "nbconvert_exporter": "python",
   "pygments_lexer": "ipython3",
   "version": "3.9.7"
  }
 },
 "nbformat": 4,
 "nbformat_minor": 5
}
