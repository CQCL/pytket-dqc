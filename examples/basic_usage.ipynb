{
 "cells": [
  {
   "cell_type": "markdown",
   "id": "728e7287",
   "metadata": {
    "tags": []
   },
   "source": [
    "# Circuit Distribution and Basic Usage\n",
    "\n",
    "`pytket-dqc` is a python package for the distribution of quantum circuits between interconnected quantum computers, which we call modules (or servers). Here we gather some basic usage of `pytket-dqc`, and introduce some basic concepts from distributed quantum computing (DQC). For more extensive discussion on `pytket-dqc` please see the documentation [here](https://cqcl.github.io/pytket-dqc/).\n",
    "\n",
    "The main data structures we will discuss include: `NISQNetwork`, the network on which a circuit will be distributed; `Circuit`, describing the circuit to be distributed; `Distribution`, which describes the distribution of a circuit onto a network; and `Distributor`, the parent class for a collection of techniques for generating a `Distribution`. We will also introduce the notions of starting and ending processes, link qubits, detached gates and Steiner trees, as discussed in greater detail in the corresponding paper [Distributing circuits over heterogeneous, modular quantum computing network architectures](link)."
   ]
  },
  {
   "cell_type": "markdown",
   "id": "8f61b6e9",
   "metadata": {
    "tags": []
   },
   "source": [
    "## Networks\n",
    "\n",
    "Networks of quantum servers are specified by two properties:\n",
    "- The server coupling, detailing which servers are connected to which others. In `pytket-dqc` this is specified by a list of pairs of integers, where each pair signifies that there is a connection between those two servers. \n",
    "- The qubits each server contains. This is specified by a dictionary from the server to a list of qubits it contains. \n",
    "\n",
    "An example is given below, where blue lines indicate connections between modules, and red lines indicate connections between qubits within modules. The vertex labels are the indexes of the qubits."
   ]
  },
  {
   "cell_type": "code",
   "execution_count": null,
   "id": "714ccf1e",
   "metadata": {},
   "outputs": [],
   "source": [
    "from pytket_dqc.networks import NISQNetwork\n",
    "\n",
    "network = NISQNetwork([[0,1], [0,2], [0,3]], {0:[0,1,2,3], 1:[4,5,6], 2:[7,8,9,10,11], 3:[12,13]})\n",
    "f = network.draw_nisq_network()"
   ]
  },
  {
   "cell_type": "markdown",
   "id": "553f0313",
   "metadata": {},
   "source": [
    "## Circuits\n",
    "\n",
    "Note that the accepted gate set for `pytket-dqc` is CU1, Rz, and H. While restrictive, this is a universal gate set, and `pytket-dqc` includes some handy utilities for rebasing your circuit if it is not in the correct gate set initially."
   ]
  },
  {
   "cell_type": "code",
   "execution_count": null,
   "id": "e0e65ad8",
   "metadata": {},
   "outputs": [],
   "source": [
    "from pytket_dqc.utils import DQCPass\n",
    "from pytket.circuit.display import render_circuit_jupyter\n",
    "from pytket import Circuit\n",
    "\n",
    "circ = Circuit(4).CY(0,1).CZ(1,2).H(1).X(3).CX(1,0).CZ(1,3)\n",
    "render_circuit_jupyter(circ)\n",
    "\n",
    "DQCPass().apply(circ)\n",
    "render_circuit_jupyter(circ)"
   ]
  },
  {
   "cell_type": "markdown",
   "id": "73602beb",
   "metadata": {},
   "source": [
    "## Distributors and Distributions\n",
    "\n",
    "`pytket-dqc` includes several instances of the `Distributor` class, each of which convert a `Circuit` and a `NISQNetwork` into a `Distribution`. A `Distribution` describes how and where gates should be acted in the network, and where qubits of the original circuit should be assigned. To demonstrate this let us first introduce a small network and circuit."
   ]
  },
  {
   "cell_type": "code",
   "execution_count": null,
   "id": "867c1af3",
   "metadata": {},
   "outputs": [],
   "source": [
    "from pytket import OpType\n",
    "\n",
    "circ = Circuit(2)\n",
    "circ.add_gate(OpType.CU1, 1.0, [0, 1]).H(0).Rz(0.3,0).H(0).add_gate(OpType.CU1, 1.0, [0, 1])\n",
    "render_circuit_jupyter(circ)\n",
    "\n",
    "network = NISQNetwork([[0,1], [0,2]], {0:[0], 1:[1], 2:[2]})\n",
    "f = network.draw_nisq_network()"
   ]
  },
  {
   "cell_type": "markdown",
   "id": "d772417c",
   "metadata": {},
   "source": [
    "One example of an available `Distributor` is `PartitioningAnnealing`, which uses simulated annealing to distribute a circuit to a network. Other distributors are discussed further in the notebook `distributor_comparison`. The resulting `Distribution` includes several useful methods, including the generation of a `pytket` `Circuit` which includes the operations required to implement it in a distributed way, as is demonstrated below."
   ]
  },
  {
   "cell_type": "code",
   "execution_count": null,
   "id": "1c9c2cd7",
   "metadata": {},
   "outputs": [],
   "source": [
    "from pytket_dqc.distributors import PartitioningAnnealing\n",
    "\n",
    "distribution = PartitioningAnnealing().distribute(circ, network, seed=1)\n",
    "\n",
    "distributed_circ = distribution.to_pytket_circuit()\n",
    "render_circuit_jupyter(distributed_circ)\n",
    "\n",
    "print('Distributed Circuit Commands:', *distributed_circ.get_commands(), sep='\\n')"
   ]
  },
  {
   "cell_type": "markdown",
   "id": "3197df11",
   "metadata": {},
   "source": [
    "Here we see that the qubits in the original circuit have been assigned to particular modules in the network, that two instances of `CustomGate` have been added to the circuit, and that an additional ancilla has been added to the circuit. The first and second `CustomGate` are a starting processes and ending process respectively, as seen in the corresponding list of commands. These together implement the single EJPP process required to distribute the two 2-qubit gates in the circuit. Please see [Optimal local implementation of non-local quantum gates](https://arxiv.org/abs/quant-ph/0005101) for further details on the EJPP protocol itself."
   ]
  },
  {
   "cell_type": "markdown",
   "id": "d0fcf416",
   "metadata": {},
   "source": [
    "## Remote Gates \n",
    "\n",
    "As well as facilitating the automatic generation of a `Distribution`, `pytket-dqc` allows for a custom `Distribution` to be defined. This requires, in addition to a `NISQNetwork` as discussed above, a `HypergrapCircuit`, which manages some additional information about a `pytket` `Circuit`, and a `Placement`, which describes where gates and qubits are assigned. The placement below assigns the two qubits in the circuit to the modules at the ends of the line network, and assigns the two gates to the central module."
   ]
  },
  {
   "cell_type": "code",
   "execution_count": null,
   "id": "f77a0819",
   "metadata": {},
   "outputs": [],
   "source": [
    "from pytket_dqc.placement import Placement\n",
    "from pytket_dqc import Distribution\n",
    "from pytket_dqc.circuits import HypergraphCircuit\n",
    "\n",
    "hyp_circ = HypergraphCircuit(circ)\n",
    "placement = Placement({0:1, 1:2, 2:0, 3:0})\n",
    "distribution = Distribution(hyp_circ, placement, network)\n",
    "assert distribution.is_valid()\n",
    "\n",
    "circ_with_dist = distribution.to_pytket_circuit()\n",
    "render_circuit_jupyter(circ_with_dist)"
   ]
  },
  {
   "cell_type": "markdown",
   "id": "34bc048a",
   "metadata": {},
   "source": [
    "Notice that ancilla qubits are added to the central module to hold the required ebits. Moreover, we see that the gates are acted on a different server from the servers where the qubits are placed. As such in this case we have one server which consists of only link qubits. Gates acting between link qubits only are referred to as 'detached' gates."
   ]
  },
  {
   "cell_type": "markdown",
   "id": "1fe7ea64",
   "metadata": {},
   "source": [
    "## Entanglement Distribution\n",
    "\n",
    "When implementing starting and ending processes `pytket-dqc` will make some effort to use the minimum number of distribution operations required to implement a sequence of gates remotely, given a `Placement`. Consider for example the following three pronged star network."
   ]
  },
  {
   "cell_type": "code",
   "execution_count": null,
   "id": "1affcae3",
   "metadata": {},
   "outputs": [],
   "source": [
    "network = NISQNetwork([[0,1], [0,2], [0,3]], {0:[0], 1:[1], 2:[2], 3:[3]})\n",
    "f = network.draw_nisq_network()"
   ]
  },
  {
   "cell_type": "markdown",
   "id": "7dec6a5a",
   "metadata": {},
   "source": [
    "and the following simple three qubit circuit."
   ]
  },
  {
   "cell_type": "code",
   "execution_count": null,
   "id": "5a1992cd",
   "metadata": {},
   "outputs": [],
   "source": [
    "circ = Circuit(3)\n",
    "circ.add_gate(OpType.CU1, 1.0, [0, 1]).add_gate(OpType.CU1, 1.0, [0, 2])\n",
    "render_circuit_jupyter(circ)"
   ]
  },
  {
   "cell_type": "markdown",
   "id": "4b0408eb",
   "metadata": {},
   "source": [
    "Imagine the qubits of this circuit are placed on the prongs of this network, and that the gates are placed on the modules which hold their target. Then the minimal way to distribute these gates is to create an entangled copy of the information contained in the control qubit with the central module, and then repeat from there to the two other edge modules. `pytket-dqc` will take this approach, as seen here."
   ]
  },
  {
   "cell_type": "code",
   "execution_count": null,
   "id": "dbc723a4",
   "metadata": {},
   "outputs": [],
   "source": [
    "placement = Placement({0:1, 1:2, 2:3, 3:2, 4:3})\n",
    "distribution = Distribution(HypergraphCircuit(circ), placement, network)\n",
    "assert distribution.is_valid()\n",
    "\n",
    "circ_with_dist = distribution.to_pytket_circuit()\n",
    "render_circuit_jupyter(circ_with_dist)"
   ]
  },
  {
   "cell_type": "markdown",
   "id": "1bfa1eff",
   "metadata": {},
   "source": [
    "More formally, `pytket-dqc` will consume ebits along the edges of the [Steiner tree](https://en.wikipedia.org/wiki/Steiner_tree_problem) which connects the modules containing the qubits acted on by the sequence of gates.\n",
    "\n",
    "An additional technique we will use is embedding, which in particular is utilised by the `CoverEmbedding` `Distributor`. In some cases, embedding allows ebits to survive past Hadamard gates, allowing for their reuse. Consider the below example of the SWAP gate, which can be decomposed as a sequence of CZ gates sandwiched by Hadamard gates. Without embedding each of the 3 CZ gates would require an ebit to be distributed on the simple 2 module network given below. However, the central CZ can be embedded, and the ebit required to implement the first CZ gate remotely can be reused by the third, assuming a correction is made on the embedded portion of the circuit. Further technical details on embedding can be found in [Entanglement-efficient bipartite-distributed quantum computing with entanglement-assisted packing processes](https://arxiv.org/abs/2212.12688)"
   ]
  },
  {
   "cell_type": "code",
   "execution_count": null,
   "id": "2f72e695",
   "metadata": {},
   "outputs": [],
   "source": [
    "from pytket_dqc.distributors import CoverEmbedding\n",
    "\n",
    "network = NISQNetwork([[0,1]], {0:[0], 1:[1]})\n",
    "\n",
    "circ = Circuit(2).SWAP(0,1)\n",
    "DQCPass().apply(circ)\n",
    "render_circuit_jupyter(circ)\n",
    "\n",
    "distribution = CoverEmbedding().distribute(circ, network, seed=0)\n",
    "circ_with_dist = distribution.to_pytket_circuit()\n",
    "render_circuit_jupyter(circ_with_dist)"
   ]
  },
  {
   "cell_type": "code",
   "execution_count": null,
   "id": "2ae4de79-7b27-4123-ac95-6ffa6a6bd3e5",
   "metadata": {},
   "outputs": [],
   "source": []
  }
 ],
 "metadata": {
  "kernelspec": {
   "display_name": "Python 3 (ipykernel)",
   "language": "python",
   "name": "python3"
  },
  "language_info": {
   "codemirror_mode": {
    "name": "ipython",
    "version": 3
   },
   "file_extension": ".py",
   "mimetype": "text/x-python",
   "name": "python",
   "nbconvert_exporter": "python",
   "pygments_lexer": "ipython3",
   "version": "3.9.16"
  }
 },
 "nbformat": 4,
 "nbformat_minor": 5
}
