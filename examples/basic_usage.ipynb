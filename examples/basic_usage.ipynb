{
 "cells": [
  {
   "cell_type": "markdown",
   "id": "728e7287",
   "metadata": {
    "tags": []
   },
   "source": [
    "# Basic Usage\n",
    "\n",
    "`pytket-dqc` is a python package for the distribution of quantum circuits between interconnected quantum computers. Here we gather some basic usage of `pytket-dqc`, covering the main data structures and methods you will encounter. These main data structures include: `NISQNetwork`, the network on which a circuit will be distributed; `Circuit`, describing the circuit to be distributed; `Distribution`, which describes the distribution of a circuit onto a network; and `Distributor`, the parent class for a collection of techniques for generating a distribution."
   ]
  },
  {
   "cell_type": "markdown",
   "id": "8f61b6e9",
   "metadata": {},
   "source": [
    "## Networks\n",
    "\n",
    "Networks of quantum servers are specified by two properties. The fist is the server coupling, detailing which servers are connected to which others. In `pytket-dqc` this is specified by a list of pairs of integers, where each pair signifies that there is a connection between those two servers. The second is the qubits each server contains. This is specified by a dictionary from the server to a list of qubits it contains. \n",
    "\n",
    "An example is given below, where blue lines indicate connections between servers, and red lines indicate connections between qubits within servers. The vertex labels are the indexes of the qubits."
   ]
  },
  {
   "cell_type": "code",
   "execution_count": null,
   "id": "714ccf1e",
   "metadata": {},
   "outputs": [],
   "source": [
    "from pytket_dqc.networks import NISQNetwork\n",
    "\n",
    "network = NISQNetwork([[0,1], [0,2], [0,3]], {0:[0,1,2,3], 1:[4,5,6], 2:[7,8,9,10,11], 3:[12,13]})\n",
    "f = network.draw_nisq_network()"
   ]
  },
  {
   "cell_type": "markdown",
   "id": "553f0313",
   "metadata": {},
   "source": [
    "## Circuits\n",
    "\n",
    "Note that the accepted gate set for `pytket-dqc` is CU1, Rz, and H. While restrictive, this is a universal gate set, and `pytket-dqc` includes some handy utilities for rebasing your circuit if it is not in the correct gate set initially."
   ]
  },
  {
   "cell_type": "code",
   "execution_count": null,
   "id": "e0e65ad8",
   "metadata": {
    "scrolled": false
   },
   "outputs": [],
   "source": [
    "from pytket_dqc.utils import DQCPass\n",
    "from pytket_dqc.circuits import HypergraphCircuit\n",
    "from pytket.circuit.display import render_circuit_jupyter\n",
    "from pytket import Circuit\n",
    "\n",
    "circ = Circuit(4).CY(0,1).CZ(1,2).H(1).CX(1,0).CZ(1,3)\n",
    "render_circuit_jupyter(circ)\n",
    "\n",
    "DQCPass().apply(circ)\n",
    "render_circuit_jupyter(circ)"
   ]
  },
  {
   "cell_type": "markdown",
   "id": "bc701f42",
   "metadata": {},
   "source": [
    "## Distributors and Distributions\n",
    "\n",
    "`pytket-dqc` includes several instances of the `Distributor` class, each of which convert a `Circuit` and a `NISQNetwork` into a `Distribution`. One example of an available `Distributor` is `PartitioningHeterogeneous`, which uses hypergraph partitioning and some refinement to distribute a circuit to a network, as in the following example.\n",
    "\n",
    "A `Distribution` includes several useful methods, including the ability to calculate the cost of the distribution and to generate the corresponding `pytket` `Circuit`, each of which is demonstrated below."
   ]
  },
  {
   "cell_type": "code",
   "execution_count": null,
   "id": "f38f007f",
   "metadata": {},
   "outputs": [],
   "source": [
    "from pytket_dqc.distributors import PartitioningHeterogeneous\n",
    "\n",
    "network = NISQNetwork([[0,1], [0,2]], {0:[0], 1:[1,2], 2:[3,4]})\n",
    "network.draw_nisq_network()\n",
    "\n",
    "distribution = PartitioningHeterogeneous().distribute(circ, network)\n",
    "print(f\"Cost of distribution: {distribution.cost()}\")\n",
    "distributed_circ = distribution.to_pytket_circuit()\n",
    "render_circuit_jupyter(distributed_circ)"
   ]
  },
  {
   "cell_type": "markdown",
   "id": "3c582f41",
   "metadata": {},
   "source": [
    "## Circuit Generation\n",
    "\n",
    "Once a placement has been obtained, it it possible to use pytket-dqc to generate a distributed circuit which implements the original circuit between several servers. There are two circuit generation methods which may be used according to the detail required. \n",
    "\n",
    "Let's consider the following simple circuit as an example."
   ]
  },
  {
   "cell_type": "code",
   "execution_count": null,
   "id": "990e4285",
   "metadata": {},
   "outputs": [],
   "source": [
    "from pytket import OpType\n",
    "\n",
    "circ = Circuit(2)\n",
    "circ.add_gate(OpType.CU1, 1.0, [0, 1]).H(0).Rz(0.3,0).H(0).add_gate(OpType.CU1, 1.0, [0, 1])\n",
    "render_circuit_jupyter(circ)"
   ]
  },
  {
   "cell_type": "markdown",
   "id": "094476d6",
   "metadata": {},
   "source": [
    "Which we will place on the following simple network"
   ]
  },
  {
   "cell_type": "markdown",
   "id": "789fc108",
   "metadata": {},
   "source": [
    "Once a distribution is determined, we can call `to_pytket_circuit` to generate the distributed circuit. The qubits are labelled according to their allocation to servers."
   ]
  },
  {
   "cell_type": "code",
   "execution_count": null,
   "id": "f77a0819",
   "metadata": {},
   "outputs": [],
   "source": [
    "from pytket_dqc.placement import Placement\n",
    "from pytket_dqc import Distribution\n",
    "\n",
    "hyp_circ = HypergraphCircuit(circ)\n",
    "placement = Placement({0:1, 1:2, 2:0, 3:0})\n",
    "distribution = Distribution(hyp_circ, placement, network)\n",
    "assert distribution.is_valid()\n",
    "\n",
    "circ_with_dist = distribution.to_pytket_circuit()\n",
    "render_circuit_jupyter(circ_with_dist)"
   ]
  },
  {
   "cell_type": "markdown",
   "id": "34bc048a",
   "metadata": {},
   "source": [
    "Notice that ancilla qubits are added to hold the e-bit. Morever, we see that the gates are acted on a different server from the servers where the qubits are placed. As such in this case we have one server which consists of only link qubits.\n",
    "\n",
    "`pytket-dqc` will make some effort to use the minimum number of distribution operations required to implement a sequence of gates remotely, given a `Placement`. Consider for example the following three pronged star network."
   ]
  },
  {
   "cell_type": "code",
   "execution_count": null,
   "id": "1affcae3",
   "metadata": {},
   "outputs": [],
   "source": [
    "network = NISQNetwork([[0,1], [0,2], [0,3]], {0:[0], 1:[1], 2:[2], 3:[3]})\n",
    "f = network.draw_nisq_network()"
   ]
  },
  {
   "cell_type": "markdown",
   "id": "7dec6a5a",
   "metadata": {},
   "source": [
    "and the following simple three qubit circuit."
   ]
  },
  {
   "cell_type": "code",
   "execution_count": null,
   "id": "5a1992cd",
   "metadata": {},
   "outputs": [],
   "source": [
    "circ = Circuit(3)\n",
    "circ.add_gate(OpType.CU1, 1.0, [0, 1]).add_gate(OpType.CU1, 1.0, [0, 2])\n",
    "render_circuit_jupyter(circ)"
   ]
  },
  {
   "cell_type": "markdown",
   "id": "4b0408eb",
   "metadata": {},
   "source": [
    "Imagine the qubits of this circuit are placed on the prongs of this network, and the gates on the servers that hold their target. Then the minimal way to distribute these gates is to copy the information contained in the control qubit to the central server, and then copy the information again from there to the two other edge servers. `pytket-dqc` will take this approach, as seen here."
   ]
  },
  {
   "cell_type": "code",
   "execution_count": null,
   "id": "dbc723a4",
   "metadata": {},
   "outputs": [],
   "source": [
    "placement = Placement({0:1, 1:2, 2:3, 3:2, 4:3})\n",
    "distribution = Distribution(HypergraphCircuit(circ), placement, network)\n",
    "assert distribution.is_valid()\n",
    "\n",
    "circ_with_dist = distribution.to_pytket_circuit()\n",
    "render_circuit_jupyter(circ_with_dist)"
   ]
  },
  {
   "cell_type": "markdown",
   "id": "1bfa1eff",
   "metadata": {},
   "source": [
    "More formally, `pytket-dqc` will consume e-bits along the edges of the [Steiner tree](https://en.wikipedia.org/wiki/Steiner_tree_problem) which connects the servers in which the qubits acted on by the sequence of gates reside."
   ]
  }
 ],
 "metadata": {
  "kernelspec": {
   "display_name": "Python 3 (ipykernel)",
   "language": "python",
   "name": "python3"
  },
  "language_info": {
   "codemirror_mode": {
    "name": "ipython",
    "version": 3
   },
   "file_extension": ".py",
   "mimetype": "text/x-python",
   "name": "python",
   "nbconvert_exporter": "python",
   "pygments_lexer": "ipython3",
   "version": "3.10.10"
  }
 },
 "nbformat": 4,
 "nbformat_minor": 5
}
