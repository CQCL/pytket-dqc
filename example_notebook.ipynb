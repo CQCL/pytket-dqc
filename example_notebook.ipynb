{
 "cells": [
  {
   "cell_type": "markdown",
   "id": "728e7287",
   "metadata": {
    "tags": []
   },
   "source": [
    "# pytket-dqc Example Usage\n",
    "\n",
    "In this notebook we gather some example uses of the pytket-dqc package."
   ]
  },
  {
   "cell_type": "markdown",
   "id": "8f61b6e9",
   "metadata": {},
   "source": [
    "## Networks\n",
    "\n",
    "Near term networks of quantum servers are specified by two properties. The fist is the server coupling, detailing which servers are connected to which others. This is specified by a list of pairs of integers, where each pair signifies that there is a connection between those two servers. The second is the qubits each server contains. This is specified by a dictionary from the server to a list of qubits it contains. \n",
    "\n",
    "An example is given below, where blue lines indicate connections between servers, and red lines indicate connections between qubits within servers. The vertex labels are the indexes of the qubits."
   ]
  },
  {
   "cell_type": "code",
   "execution_count": null,
   "id": "714ccf1e",
   "metadata": {},
   "outputs": [],
   "source": [
    "from pytket_dqc.networks import NISQNetwork\n",
    "\n",
    "network = NISQNetwork([[0,1], [0,2], [0,3]], {0:[0,1,2,3], 1:[4,5,6], 2:[7,8,9,10,11], 3:[12,13]})\n",
    "network.draw_nisq_network()"
   ]
  },
  {
   "cell_type": "markdown",
   "id": "553f0313",
   "metadata": {},
   "source": [
    "## Distributed Circuits\n",
    "\n",
    "The `DistributedCircuits` class adds some additional properties and methods to the standard `Circuit` pytket class. These predominantly relate to a hypergraph representation of the circuit. `DistributedCircuits` are initialised from a standard tket `Circuit` object, as seen in the following example. Additional functionality is provided to visualise the corresponding hypergraph. For details on the correspondence between circuits and hypergraphs please see the paper [Automated distribution of quantum circuits via hypergraph partitioning](https://arxiv.org/abs/1811.10972)."
   ]
  },
  {
   "cell_type": "code",
   "execution_count": null,
   "id": "2be3f734",
   "metadata": {},
   "outputs": [],
   "source": [
    "from pytket_dqc.circuits import DistributedCircuit\n",
    "from pytket.circuit.display import render_circuit_jupyter\n",
    "from pytket import Circuit\n",
    "\n",
    "circ = Circuit(4).CZ(0,3).Rz(0.5,3).CZ(1,3).CZ(2,3).Rz(0.5,3)\n",
    "\n",
    "dist_circ = DistributedCircuit(circ)\n",
    "render_circuit_jupyter(dist_circ.circuit)\n",
    "dist_circ.draw()"
   ]
  },
  {
   "cell_type": "markdown",
   "id": "7023a5a3",
   "metadata": {},
   "source": [
    "The accepted gate set for pytket-dqc is at present Rx, CZ, CX, Rz, and Measure. Note that in the case of the hyperedges that relate to CX, hyperedges are weighted. This is because they cannot be acted between servers in some directions using only one e-bit, and 2 may be required to perform a teleportation operation."
   ]
  },
  {
   "cell_type": "code",
   "execution_count": null,
   "id": "3c6f880b",
   "metadata": {},
   "outputs": [],
   "source": [
    "from pytket.circuit import Circuit\n",
    "from pytket.circuit.display import render_circuit_jupyter\n",
    "\n",
    "circ = Circuit(2)\n",
    "circ.CZ(0,1)\n",
    "circ.Rz(0.3,1)\n",
    "circ.CX(1,0)\n",
    "\n",
    "dist_circ = DistributedCircuit(circ)\n",
    "render_circuit_jupyter(dist_circ.circuit)\n",
    "dist_circ.draw()"
   ]
  },
  {
   "cell_type": "markdown",
   "id": "3780ecfe",
   "metadata": {},
   "source": [
    "pytket-dqc includes some utilities for rebasing your circuit if it is not in the correct gate set initially."
   ]
  },
  {
   "cell_type": "code",
   "execution_count": null,
   "id": "e0e65ad8",
   "metadata": {},
   "outputs": [],
   "source": [
    "from pytket_dqc.utils import dqc_rebase\n",
    "\n",
    "circ = Circuit(3).CY(0,1).CZ(1,2).H(1).CX(1,0)\n",
    "render_circuit_jupyter(circ)\n",
    "\n",
    "dqc_rebase.apply(circ)\n",
    "render_circuit_jupyter(circ)"
   ]
  },
  {
   "cell_type": "markdown",
   "id": "ef5f0a07",
   "metadata": {},
   "source": [
    "## Distributors\n",
    "\n",
    "pytket-dqc provides several distributors, which are themselves a selection of methods to assign qubits and gates to servers. Their aim is to return a placement which minimises the e-bit cost of the resulting implementation.\n",
    "\n",
    "Here we will work though some example use of these distributors. To do so let's define a simple network."
   ]
  },
  {
   "cell_type": "code",
   "execution_count": null,
   "id": "481e006a",
   "metadata": {},
   "outputs": [],
   "source": [
    "from pytket_dqc.networks import NISQNetwork\n",
    "\n",
    "network = NISQNetwork([[0,1], [0,2]], {0:[0], 1:[1,2], 2:[3,4]})\n",
    "network.draw_nisq_network()"
   ]
  },
  {
   "cell_type": "markdown",
   "id": "0f3807db",
   "metadata": {},
   "source": [
    "Let's also define a circuit to distribute. Some classes of circuits are predefined within pytket-dqc. Cyclic circuits, where CZ gates act in a circle, are one such class of circuits. These circuits are defined by the number of qubits they act on and the number of layers of cycles."
   ]
  },
  {
   "cell_type": "code",
   "execution_count": null,
   "id": "6f2ba907",
   "metadata": {},
   "outputs": [],
   "source": [
    "from pytket_dqc.circuits import CyclicDistributedCircuit\n",
    "\n",
    "dist_circ = CyclicDistributedCircuit(4,2)\n",
    "render_circuit_jupyter(dist_circ.circuit)\n",
    "dist_circ.draw()"
   ]
  },
  {
   "cell_type": "markdown",
   "id": "75a5fcec",
   "metadata": {},
   "source": [
    "One such is Brute, which performs a brutefoce search of all placements of qubits and gates onto servers, returning the one with the lowest cost. It is the slowest method, but returns the best result every time."
   ]
  },
  {
   "cell_type": "code",
   "execution_count": null,
   "id": "0ce0c088",
   "metadata": {},
   "outputs": [],
   "source": [
    "from pytket_dqc.distributors import Brute\n",
    "import time\n",
    "\n",
    "distributor = Brute()\n",
    "\n",
    "start = time.time()\n",
    "placement = distributor.distribute(dist_circ, network)\n",
    "print(\"time to distribute\", time.time() - start)\n",
    "print(\"final placement\", placement.placement)\n",
    "print(\"final placement cost\", placement.cost(dist_circ, network))"
   ]
  },
  {
   "cell_type": "markdown",
   "id": "44f93783",
   "metadata": {},
   "source": [
    "Annealing is another approach, which uses simulated annealing as a means to arrive at a valid placement."
   ]
  },
  {
   "cell_type": "code",
   "execution_count": null,
   "id": "bc34d2ff",
   "metadata": {},
   "outputs": [],
   "source": [
    "from pytket_dqc.distributors import Annealing\n",
    "\n",
    "distributor = Annealing()\n",
    "\n",
    "start = time.time()\n",
    "placement = distributor.distribute(dist_circ, network)\n",
    "print(\"time to distribute\", time.time() - start)\n",
    "print(\"final placement\", placement.placement)\n",
    "print(\"final placement cost\", placement.cost(dist_circ, network))"
   ]
  },
  {
   "cell_type": "markdown",
   "id": "e2b4a84d",
   "metadata": {},
   "source": [
    "GraphPartitioning uses the [Karlsruhe Hypergraph Partitioning Framework](https://kahypar.org/) to derive a placement."
   ]
  },
  {
   "cell_type": "code",
   "execution_count": null,
   "id": "e6fdc542",
   "metadata": {},
   "outputs": [],
   "source": [
    "from pytket_dqc.distributors import GraphPartitioning\n",
    "\n",
    "distributor = GraphPartitioning()\n",
    "\n",
    "start = time.time()\n",
    "placement = distributor.distribute(dist_circ, network)\n",
    "print(\"time to distribute\", time.time() - start)\n",
    "print(\"final placement\", placement.placement)\n",
    "print(\"final placement cost\", placement.cost(dist_circ, network))\n",
    "assert placement.is_valid(dist_circ, network)"
   ]
  },
  {
   "cell_type": "markdown",
   "id": "44c77b71",
   "metadata": {},
   "source": [
    "The current version of GraphPartitioning is guaranteed to output a valid placement."
   ]
  },
  {
   "cell_type": "markdown",
   "id": "7531d1f0",
   "metadata": {},
   "source": [
    "Routing makes use of routing and placement and routing techniques available in TKET. Here the network architecture as a whole is interpreted as a backend architecture, with noise on edges between servers set to be very high. Routing is guaranteed to generate a valid placement, and often very quickly. Unfortunately, it does not do a great job of distinguishing between connections within servers and connections between them. This can result in a high e-bit cost. Routing will also alter the circuit"
   ]
  },
  {
   "cell_type": "code",
   "execution_count": null,
   "id": "b7c43c2a",
   "metadata": {},
   "outputs": [],
   "source": [
    "from pytket_dqc.distributors import Routing\n",
    "\n",
    "distributor = Routing()\n",
    "\n",
    "start = time.time()\n",
    "placement = distributor.distribute(dist_circ, network)\n",
    "print(\"time to distribute\", time.time() - start)\n",
    "print(\"final placement\", placement.placement)\n",
    "print(\"final placement cost\", placement.cost(dist_circ, network))"
   ]
  },
  {
   "cell_type": "markdown",
   "id": "b0473ec2",
   "metadata": {},
   "source": [
    "## Larger Example\n",
    "\n",
    "Let's see how far we can push these schemes. Let's create a larger network:"
   ]
  },
  {
   "cell_type": "code",
   "execution_count": null,
   "id": "43b05f2c",
   "metadata": {},
   "outputs": [],
   "source": [
    "from pytket_dqc.networks import NISQNetwork\n",
    "\n",
    "network = NISQNetwork([[0,1], [0,2], [0,3]], {0:[i for i in range(10)], 1:[i for i in range(10, 20)], 2:[i for i in range(20,30)], 3:[i for i in range(30,40)]})\n",
    "network.draw_nisq_network()"
   ]
  },
  {
   "cell_type": "markdown",
   "id": "38563bad",
   "metadata": {},
   "source": [
    "and a larger circuit:"
   ]
  },
  {
   "cell_type": "code",
   "execution_count": null,
   "id": "bd8ce529",
   "metadata": {},
   "outputs": [],
   "source": [
    "from pytket_dqc.circuits import CyclicDistributedCircuit\n",
    "from pytket.circuit.display import render_circuit_jupyter\n",
    "\n",
    "dist_circ = CyclicDistributedCircuit(35,2)\n",
    "render_circuit_jupyter(dist_circ.circuit)\n",
    "dist_circ.draw()"
   ]
  },
  {
   "cell_type": "markdown",
   "id": "e26036a5",
   "metadata": {},
   "source": [
    "We have already seen that Brute can be quite slow, so let's not use that here. Let's see how the others perform, starting with Annealing. In this case we see that it performs the slowest of the three schemes. However it does not take an unreasonably long time, and the solution is reasonably good."
   ]
  },
  {
   "cell_type": "code",
   "execution_count": null,
   "id": "11ea178e",
   "metadata": {},
   "outputs": [],
   "source": [
    "from pytket_dqc.distributors import Annealing\n",
    "import time\n",
    "\n",
    "distributor = Annealing()\n",
    "\n",
    "start = time.time()\n",
    "placement = distributor.distribute(dist_circ, network)\n",
    "print(\"time to distribute\", time.time() - start)\n",
    "print(\"final placement\", placement.placement)\n",
    "print(\"final placement cost\", placement.cost(dist_circ, network))"
   ]
  },
  {
   "cell_type": "markdown",
   "id": "5fbd4c56",
   "metadata": {},
   "source": [
    "GraphPartitioning is the quickest, and produces the best result. In this case this is not unsurprising. The implementation of kahypar is highly optimised and so the result is arrived at very quickly."
   ]
  },
  {
   "cell_type": "code",
   "execution_count": null,
   "id": "64dd7fb8",
   "metadata": {},
   "outputs": [],
   "source": [
    "from pytket_dqc.distributors import GraphPartitioning\n",
    "\n",
    "distributor = GraphPartitioning()\n",
    "\n",
    "start = time.time()\n",
    "placement = distributor.distribute(dist_circ, network)\n",
    "print(\"time to distribute\", time.time() - start)\n",
    "print(\"final placement\", placement.placement)\n",
    "print(\"final placement cost\", placement.cost(dist_circ, network))"
   ]
  },
  {
   "cell_type": "markdown",
   "id": "671d39ca",
   "metadata": {},
   "source": [
    "The placement cost of Routing is the worst, although this is not unreasonably so. Again it arrives a the solution very quickly."
   ]
  },
  {
   "cell_type": "code",
   "execution_count": null,
   "id": "dedda0aa",
   "metadata": {},
   "outputs": [],
   "source": [
    "from pytket_dqc.distributors import Routing\n",
    "\n",
    "distributor = Routing()\n",
    "\n",
    "start = time.time()\n",
    "placement = distributor.distribute(dist_circ, network)\n",
    "print(\"time to distribute\", time.time() - start)\n",
    "print(\"final placement\", placement.placement)\n",
    "print(\"final placement cost\", placement.cost(dist_circ, network))"
   ]
  },
  {
   "cell_type": "markdown",
   "id": "9a48d1a7",
   "metadata": {},
   "source": [
    "Let's finally take a more complex network:"
   ]
  },
  {
   "cell_type": "code",
   "execution_count": null,
   "id": "51efdac5",
   "metadata": {},
   "outputs": [],
   "source": [
    "from pytket_dqc.networks import NISQNetwork\n",
    "\n",
    "network = NISQNetwork([[0,1], [0,2], [2,3]], {0:[i for i in range(5)], 1:[i for i in range(5, 20)], 2:[i for i in range(20,30)], 3:[i for i in range(30,45)]})\n",
    "network.draw_nisq_network()"
   ]
  },
  {
   "cell_type": "markdown",
   "id": "602b2f15",
   "metadata": {},
   "source": [
    "and circuit:"
   ]
  },
  {
   "cell_type": "code",
   "execution_count": null,
   "id": "7227aec6",
   "metadata": {},
   "outputs": [],
   "source": [
    "from pytket_dqc.circuits import RegularGraphDistributedCircuit\n",
    "from pytket.circuit.display import render_circuit_jupyter\n",
    "\n",
    "dist_circ = RegularGraphDistributedCircuit(34,3,5)\n",
    "render_circuit_jupyter(dist_circ.circuit)\n",
    "dist_circ.draw()"
   ]
  },
  {
   "cell_type": "markdown",
   "id": "63ec728a",
   "metadata": {},
   "source": [
    "Annealing now takes a non-negligible time to find a placement. However, the solution is valid, and of those that generate a valid solution, it is the best"
   ]
  },
  {
   "cell_type": "code",
   "execution_count": null,
   "id": "96766dd9",
   "metadata": {},
   "outputs": [],
   "source": [
    "from pytket_dqc.distributors import Annealing\n",
    "import time\n",
    "\n",
    "distributor = Annealing()\n",
    "\n",
    "start = time.time()\n",
    "placement = distributor.distribute(dist_circ, network)\n",
    "print(\"time to distribute\", time.time() - start)\n",
    "print(\"final placement\", placement.placement)\n",
    "print(\"final placement cost\", placement.cost(dist_circ, network))"
   ]
  },
  {
   "cell_type": "markdown",
   "id": "962d41f4",
   "metadata": {},
   "source": [
    "In the case of GraphPartitioning we can choose how many refinement rounds are done after the initial partitioning by KaHyPar. These refinement rounds are meant to reduce the cost taking into account the restricted network connectivity, which KaHyPar cannot manage on its own. If `num_rounds` is set to zero, the outcome corresponds to that of KaHyPar with no refinement."
   ]
  },
  {
   "cell_type": "code",
   "execution_count": null,
   "id": "e04ebdd1",
   "metadata": {},
   "outputs": [],
   "source": [
    "from pytket_dqc.distributors import GraphPartitioning\n",
    "\n",
    "distributor = GraphPartitioning()\n",
    "\n",
    "start = time.time()\n",
    "placement = distributor.distribute(dist_circ, network, num_rounds=0)\n",
    "print(\"time to distribute\", time.time() - start)\n",
    "print(\"final placement\", placement.placement)\n",
    "print(\"final placement cost\", placement.cost(dist_circ, network))"
   ]
  },
  {
   "cell_type": "markdown",
   "id": "b21a19cc-e865-4523-a0ee-39d84670c667",
   "metadata": {},
   "source": [
    "Alternatively, we can ask for `num_rounds=100` so that there is some refinement being done. This improves the placement cost significantly at the cost of some extra time."
   ]
  },
  {
   "cell_type": "code",
   "execution_count": null,
   "id": "91497b7d-660b-447a-b390-d4f5bda80ca8",
   "metadata": {},
   "outputs": [],
   "source": [
    "from pytket_dqc.distributors import GraphPartitioning\n",
    "\n",
    "distributor = GraphPartitioning()\n",
    "\n",
    "start = time.time()\n",
    "placement = distributor.distribute(dist_circ, network, num_rounds=100)\n",
    "print(\"time to distribute\", time.time() - start)\n",
    "print(\"final placement\", placement.placement)\n",
    "print(\"final placement cost\", placement.cost(dist_circ, network))"
   ]
  },
  {
   "cell_type": "markdown",
   "id": "495815bc-2b9d-45e9-aabc-63f847c62e22",
   "metadata": {},
   "source": [
    "If we do not specify a value for `num_rounds` it defaults to 1000 rounds. The algorithm has a halting criterion that stops it before running all of those rounds if it realises that the improvement being made on each iteration is no longer noticeable."
   ]
  },
  {
   "cell_type": "markdown",
   "id": "ce2ff8fb",
   "metadata": {},
   "source": [
    "Routing is now noticeably slow, and the solution quite poor."
   ]
  },
  {
   "cell_type": "code",
   "execution_count": null,
   "id": "5b5184da",
   "metadata": {},
   "outputs": [],
   "source": [
    "from pytket_dqc.distributors import Routing\n",
    "\n",
    "distributor = Routing()\n",
    "\n",
    "start = time.time()\n",
    "placement = distributor.distribute(dist_circ, network)\n",
    "print(\"time to distribute\", time.time() - start)\n",
    "print(\"final placement\", placement.placement)\n",
    "print(\"final placement cost\", placement.cost(dist_circ, network))"
   ]
  },
  {
   "cell_type": "markdown",
   "id": "3c582f41",
   "metadata": {},
   "source": [
    "## Circuit Generation\n",
    "\n",
    "Once a placement has been obtained, it it possible to use pytket-dqc to generate a distributed circuit which implements the original circuit between several servers. There are two circuit generation methods which may be used according to the detail required. \n",
    "\n",
    "Let's consider the following simple circuit as an example."
   ]
  },
  {
   "cell_type": "code",
   "execution_count": null,
   "id": "990e4285",
   "metadata": {},
   "outputs": [],
   "source": [
    "from pytket_dqc.circuits import DistributedCircuit\n",
    "from pytket import Circuit\n",
    "from pytket.circuit.display import render_circuit_jupyter\n",
    "\n",
    "circ = Circuit(2)\n",
    "circ.CZ(0,1).Rx(0.3,0).CZ(0,1)\n",
    "render_circuit_jupyter(circ)\n",
    "\n",
    "dist_circ = DistributedCircuit(circ)\n",
    "dist_circ.draw()"
   ]
  },
  {
   "cell_type": "markdown",
   "id": "094476d6",
   "metadata": {},
   "source": [
    "Which we will place on the following simple network"
   ]
  },
  {
   "cell_type": "code",
   "execution_count": null,
   "id": "7c46eb15",
   "metadata": {},
   "outputs": [],
   "source": [
    "from pytket_dqc.networks import NISQNetwork\n",
    "\n",
    "network = NISQNetwork([[0,1], [0,2]], {0:[0], 1:[1], 2:[2]})\n",
    "network.draw_nisq_network()"
   ]
  },
  {
   "cell_type": "markdown",
   "id": "789fc108",
   "metadata": {},
   "source": [
    "The first circuit generation method will simply relabel the qubit registers."
   ]
  },
  {
   "cell_type": "code",
   "execution_count": null,
   "id": "f77a0819",
   "metadata": {},
   "outputs": [],
   "source": [
    "from pytket_dqc.placement import Placement\n",
    "\n",
    "placement = Placement({0:1, 1:2, 2:0, 3:0})\n",
    "assert dist_circ.is_placement(placement)\n",
    "\n",
    "circ_with_dist = dist_circ.to_relabeled_registers(placement)\n",
    "render_circuit_jupyter(circ_with_dist)"
   ]
  },
  {
   "cell_type": "markdown",
   "id": "9004f2fb",
   "metadata": {},
   "source": [
    "The second will additionally generate all of the necessary distributed gates."
   ]
  },
  {
   "cell_type": "code",
   "execution_count": null,
   "id": "ee0342ac",
   "metadata": {},
   "outputs": [],
   "source": [
    "circ_with_dist = dist_circ.to_pytket_circuit(placement, network)\n",
    "render_circuit_jupyter(circ_with_dist)"
   ]
  },
  {
   "cell_type": "markdown",
   "id": "34bc048a",
   "metadata": {},
   "source": [
    "Notice firstly that there is one link qubit added for each e-bit. Secondly we see that the gates are acted on a different server from the servers where the qubits are placed. As such in this case we have one server which consists of only link qubits."
   ]
  },
  {
   "cell_type": "markdown",
   "id": "ced28458",
   "metadata": {},
   "source": [
    "# Small example to check trivial partition"
   ]
  },
  {
   "cell_type": "code",
   "execution_count": null,
   "id": "4ef0eb0f",
   "metadata": {},
   "outputs": [],
   "source": [
    "from pytket_dqc.networks import NISQNetwork\n",
    "\n",
    "network = NISQNetwork([[0,1]], {0:[i for i in range(3)], 1:[i for i in range(3, 9)]})\n",
    "network.draw_nisq_network()"
   ]
  },
  {
   "cell_type": "code",
   "execution_count": null,
   "id": "418756e5",
   "metadata": {},
   "outputs": [],
   "source": [
    "from pytket.circuit import Circuit, CircBox, QControlBox, Op, OpType\n",
    "from pytket_dqc.circuits import DistributedCircuit\n",
    "from pytket.circuit.display import render_circuit_jupyter\n",
    "\n",
    "op = Op.create(OpType.V)\n",
    "cv = QControlBox(op, 1)\n",
    "\n",
    "circ = Circuit(4)\n",
    "circ.CZ(0,1) \n",
    "circ.CZ(0,2) \n",
    "circ.Rx(0.3,2)\n",
    "circ.CZ(1,3) \n",
    "circ.Rx(0.3,0)\n",
    "circ.CZ(1,2) \n",
    "circ.CZ(0,3) \n",
    "dist_circ = DistributedCircuit(circ)\n",
    "\n",
    "render_circuit_jupyter(circ)"
   ]
  },
  {
   "cell_type": "code",
   "execution_count": null,
   "id": "b318465f",
   "metadata": {},
   "outputs": [],
   "source": [
    "from pytket_dqc.distributors import GraphPartitioning\n",
    "\n",
    "distributor = GraphPartitioning()\n",
    "\n",
    "\n",
    "placement = distributor.distribute(dist_circ, network)\n",
    "print(\"final placement\", placement.placement)\n",
    "print(\"final placement cost\", placement.cost(dist_circ, network))"
   ]
  },
  {
   "cell_type": "markdown",
   "id": "f4c7c087",
   "metadata": {},
   "source": [
    "The final placement cost is zero since all of the vertices are placed in the same server. Such behaviour is guaranteed if `num_rounds` is left to its default value or is greater than 0."
   ]
  },
  {
   "cell_type": "markdown",
   "id": "21ab9d68-ad18-4aa7-9081-6069118ae6c7",
   "metadata": {},
   "source": [
    "# Working with cache"
   ]
  },
  {
   "cell_type": "markdown",
   "id": "57271929-d6ea-4445-b6ac-34f891e111e4",
   "metadata": {},
   "source": [
    "The current implementation of GraphPartitioning (and, in particular, the refinement algorithm) makes use of a cache to store precomputed costs. For each subset of servers, the cache stores the cost of communicating these servers in an efficient way (finding their Steiner tree in the network). The size of this cache can be toggled using parameter `cache_limit` which establishes a limit on the cardinality of the subsets of servers whose cost will be stored in cache: if the subset has more servers than `cache_limit` then its cost will be computed but not stored in the cache. If there are N servers and m = `max_key_size` then the cache will store up to N^m values. Default value is 5."
   ]
  },
  {
   "cell_type": "markdown",
   "id": "86f0824e-906e-4263-9898-eabb12c92757",
   "metadata": {},
   "source": [
    "Let's test the effect of the cache on performance for a large example."
   ]
  },
  {
   "cell_type": "code",
   "execution_count": null,
   "id": "5257f125-40c4-48ed-8101-e84602040917",
   "metadata": {},
   "outputs": [],
   "source": [
    "from pytket_dqc.networks import NISQNetwork\n",
    "\n",
    "network = NISQNetwork([[0,1], [0,2], [2,3]], {0:[i for i in range(5)], 1:[i for i in range(5, 20)], 2:[i for i in range(20,30)], 3:[i for i in range(30,45)]})\n",
    "network.draw_nisq_network()"
   ]
  },
  {
   "cell_type": "code",
   "execution_count": null,
   "id": "457b1083-9bc7-445e-af3d-dbf5ff212da1",
   "metadata": {},
   "outputs": [],
   "source": [
    "from pytket_dqc.circuits import RegularGraphDistributedCircuit\n",
    "from pytket.circuit.display import render_circuit_jupyter\n",
    "\n",
    "dist_circ = RegularGraphDistributedCircuit(34,3,5)\n",
    "render_circuit_jupyter(dist_circ.circuit)\n",
    "dist_circ.draw()"
   ]
  },
  {
   "cell_type": "markdown",
   "id": "cbc31afa-24ec-4f8a-8c10-7f48c1ce6b62",
   "metadata": {},
   "source": [
    "Using `cache_limit=5` (which is the default value) we get:"
   ]
  },
  {
   "cell_type": "code",
   "execution_count": null,
   "id": "8f8165ba-b0fc-4315-a219-62e71d91a32a",
   "metadata": {},
   "outputs": [],
   "source": [
    "from pytket_dqc.distributors import GraphPartitioning\n",
    "\n",
    "distributor = GraphPartitioning()\n",
    "\n",
    "start = time.time()\n",
    "placement = distributor.distribute(dist_circ, network, seed=1, cache_limit=5)\n",
    "print(\"time to distribute\", time.time() - start)\n",
    "print(\"final placement cost\", placement.cost(dist_circ, network))"
   ]
  },
  {
   "cell_type": "markdown",
   "id": "65c4ab68-8ad3-49a0-8c0e-a87bfda05ddd",
   "metadata": {},
   "source": [
    "And if set `cache_limit=0` the cache is never used:"
   ]
  },
  {
   "cell_type": "code",
   "execution_count": null,
   "id": "b59ca2d3-dcdb-453b-972a-253625f24d80",
   "metadata": {},
   "outputs": [],
   "source": [
    "from pytket_dqc.distributors import GraphPartitioning\n",
    "\n",
    "distributor = GraphPartitioning()\n",
    "\n",
    "start = time.time()\n",
    "placement = distributor.distribute(dist_circ, network, seed=1, cache_limit=0)\n",
    "print(\"time to distribute\", time.time() - start)\n",
    "print(\"final placement cost\", placement.cost(dist_circ, network))"
   ]
  },
  {
   "cell_type": "markdown",
   "id": "1bded42d-9b97-45cf-8fb7-a6b3ff5fc131",
   "metadata": {},
   "source": [
    "The final placement cost should not be affected (if it is, it would be due to the random choices within the algorithm). The point of using a cache is to make a difference in time, but we see that its effect is unnoticeable. This is likely because the network in this example is simple enough that calculating the Steiner tree takes virtually no time. It is likely that in general this will be the case and we would rather set `cache_limit=0` by default (requires testing on more complex networks and larger circuits)."
   ]
  },
  {
   "cell_type": "code",
   "execution_count": null,
   "id": "992f862b-2a79-4d3a-8443-c82c064dd1b8",
   "metadata": {},
   "outputs": [],
   "source": []
  }
 ],
 "metadata": {
  "kernelspec": {
   "display_name": "base",
   "language": "python",
   "name": "base"
  },
  "language_info": {
   "codemirror_mode": {
    "name": "ipython",
    "version": 3
   },
   "file_extension": ".py",
   "mimetype": "text/x-python",
   "name": "python",
   "nbconvert_exporter": "python",
   "pygments_lexer": "ipython3",
   "version": "3.9.7"
  }
 },
 "nbformat": 4,
 "nbformat_minor": 5
}
