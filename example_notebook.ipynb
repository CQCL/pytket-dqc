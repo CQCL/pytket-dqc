{
 "cells": [
  {
   "cell_type": "markdown",
   "id": "728e7287",
   "metadata": {},
   "source": [
    "# pytket-dqc Example Usage\n",
    "\n",
    "In this notebook we gather some example uses of the pytket-dqc package."
   ]
  },
  {
   "cell_type": "markdown",
   "id": "8f61b6e9",
   "metadata": {},
   "source": [
    "## Networks\n",
    "\n",
    "Near term networks of quantum servers are specified by two properties. The fist is the server coupling, detailing which servers are connected to which others. This is specified by a list of pairs of integers, where each pair signifies that there is a connection between those two servers. The second is the qubits each server contains. This is specified by a dictionary from the server to a list of qubits it contains. \n",
    "\n",
    "An example is given below, where blue lines indicate connections between servers, and red lines indicate connections between qubits within servers. The vertex labels are the indexes of the qubits."
   ]
  },
  {
   "cell_type": "code",
   "execution_count": null,
   "id": "714ccf1e",
   "metadata": {},
   "outputs": [],
   "source": [
    "from pytket_dqc.networks import NISQNetwork\n",
    "\n",
    "network = NISQNetwork([[0,1], [0,2], [0,3]], {0:[0,1,2,3], 1:[4,5,6], 2:[7,8,9,10,11], 3:[12,13]})\n",
    "network.draw_nisq_network()"
   ]
  },
  {
   "cell_type": "markdown",
   "id": "553f0313",
   "metadata": {},
   "source": [
    "## Distributed Circuits\n",
    "\n",
    "The `DistributedCircuits` class adds some additional properties and methods to the standard `Circuit` pytket class. These predominantly relate to a hypergraph representation of the circuit. `DistributedCircuits` are initialised from a standard tket `Circuit` object, as seen in the following example. Additional functionality is provided to visualise the corresponding hypergraph. For details on the correspondence between circuits and hypergraphs please see the paper [Automated distribution of quantum circuits via hypergraph partitioning](https://arxiv.org/abs/1811.10972)."
   ]
  },
  {
   "cell_type": "code",
   "execution_count": null,
   "id": "2be3f734",
   "metadata": {},
   "outputs": [],
   "source": [
    "from pytket_dqc.circuits import DistributedCircuit\n",
    "from pytket.circuit.display import render_circuit_jupyter\n",
    "from pytket import Circuit\n",
    "\n",
    "circ = Circuit(4).CZ(0,3).Rz(0.5,3).CZ(1,3).CZ(2,3).Rz(0.5,3)\n",
    "\n",
    "dist_circ = DistributedCircuit(circ)\n",
    "render_circuit_jupyter(dist_circ.circuit)\n",
    "dist_circ.draw()"
   ]
  },
  {
   "cell_type": "markdown",
   "id": "7023a5a3",
   "metadata": {},
   "source": [
    "The accepted gate set for pytket-dqc is at present Rx, CZ, CX, Rz, Measure and QControlBox. QControlBox can be used to add controlled single qubit unitaries to your circuit, but nothing more complicated than that at the moment. Note that in the case of the hyperedges that relate to QControlBox, hyperedges are weighted. This is because they cannot be acted between servers in some directions using only one e-bit, and 2 may be required to perform a teleportation operation."
   ]
  },
  {
   "cell_type": "code",
   "execution_count": null,
   "id": "3c6f880b",
   "metadata": {},
   "outputs": [],
   "source": [
    "from pytket.circuit import Circuit, CircBox, QControlBox, Op, OpType\n",
    "from pytket.circuit.display import render_circuit_jupyter\n",
    "\n",
    "op = Op.create(OpType.V)\n",
    "cv = QControlBox(op, 1)\n",
    "\n",
    "circ = Circuit(2)\n",
    "circ.CZ(0,1)\n",
    "circ.add_qcontrolbox(cv, [1,0]) \n",
    "circ.Rz(0.3,1)\n",
    "circ.CZ(1,0)\n",
    "\n",
    "dist_circ = DistributedCircuit(circ)\n",
    "render_circuit_jupyter(dist_circ.circuit)\n",
    "dist_circ.draw()"
   ]
  },
  {
   "cell_type": "markdown",
   "id": "3780ecfe",
   "metadata": {},
   "source": [
    "pytket-dqc includes some utilities for rebasing your circuit if it is not in the correct gate set initially."
   ]
  },
  {
   "cell_type": "code",
   "execution_count": null,
   "id": "e0e65ad8",
   "metadata": {},
   "outputs": [],
   "source": [
    "from pytket_dqc.utils import dqc_rebase\n",
    "\n",
    "circ = Circuit(3).CY(0,1).CZ(1,2).H(1).CX(1,0)\n",
    "render_circuit_jupyter(circ)\n",
    "\n",
    "dqc_rebase.apply(circ)\n",
    "render_circuit_jupyter(circ)"
   ]
  },
  {
   "cell_type": "markdown",
   "id": "ef5f0a07",
   "metadata": {},
   "source": [
    "## Distributors\n",
    "\n",
    "pytket-dqc provides several distributors, which are themselves a selection of methods to assign qubits and gates to servers. Their aim is to return a placement which minimises the e-bit cost of the resulting implementation.\n",
    "\n",
    "Here we will work though some example use of these distributors. To do so let's define a simple network."
   ]
  },
  {
   "cell_type": "code",
   "execution_count": null,
   "id": "481e006a",
   "metadata": {},
   "outputs": [],
   "source": [
    "from pytket_dqc.networks import NISQNetwork\n",
    "\n",
    "network = NISQNetwork([[0,1], [0,2]], {0:[0], 1:[1,2], 2:[3,4]})\n",
    "network.draw_nisq_network()"
   ]
  },
  {
   "cell_type": "markdown",
   "id": "0f3807db",
   "metadata": {},
   "source": [
    "Let's also define a circuit to distribute. Some classes of circuits are predefined within pytket-dqc. Cyclic circuits, where CZ gates act in a circle, are one such class of circuits. These circuits are defined by the number of qubits they act on and the number of layers of cycles."
   ]
  },
  {
   "cell_type": "code",
   "execution_count": null,
   "id": "6f2ba907",
   "metadata": {},
   "outputs": [],
   "source": [
    "from pytket_dqc.circuits import CyclicDistributedCircuit\n",
    "\n",
    "dist_circ = CyclicDistributedCircuit(4,2)\n",
    "render_circuit_jupyter(dist_circ.circuit)\n",
    "dist_circ.draw()"
   ]
  },
  {
   "cell_type": "markdown",
   "id": "75a5fcec",
   "metadata": {},
   "source": [
    "One such is Brute, which performs a brutefoce search of all placements of qubits and gates onto servers, returning the one with the lowest cost. It is the slowest method, but returns the best result every time."
   ]
  },
  {
   "cell_type": "code",
   "execution_count": null,
   "id": "0ce0c088",
   "metadata": {},
   "outputs": [],
   "source": [
    "from pytket_dqc.distributors import Brute\n",
    "import time\n",
    "\n",
    "distributor = Brute()\n",
    "\n",
    "start = time.time()\n",
    "placement = distributor.distribute(dist_circ, network)\n",
    "print(\"time to distribute\", time.time() - start)\n",
    "print(\"final placement\", placement.placement)\n",
    "print(\"final placement cost\", placement.cost(dist_circ, network))"
   ]
  },
  {
   "cell_type": "markdown",
   "id": "44f93783",
   "metadata": {},
   "source": [
    "Annealing is another approach, which uses simulated annealing as a means to arrive at a valid placement."
   ]
  },
  {
   "cell_type": "code",
   "execution_count": null,
   "id": "bc34d2ff",
   "metadata": {},
   "outputs": [],
   "source": [
    "from pytket_dqc.distributors import Annealing\n",
    "\n",
    "distributor = Annealing()\n",
    "\n",
    "start = time.time()\n",
    "placement = distributor.distribute(dist_circ, network)\n",
    "print(\"time to distribute\", time.time() - start)\n",
    "print(\"final placement\", placement.placement)\n",
    "print(\"final placement cost\", placement.cost(dist_circ, network))"
   ]
  },
  {
   "cell_type": "markdown",
   "id": "e2b4a84d",
   "metadata": {},
   "source": [
    "GraphPartitioning uses the [Karlsruhe Hypergraph Partitioning Framework](https://kahypar.org/) to derive a placement."
   ]
  },
  {
   "cell_type": "code",
   "execution_count": null,
   "id": "e6fdc542",
   "metadata": {},
   "outputs": [],
   "source": [
    "from pytket_dqc.distributors import GraphPartitioning\n",
    "\n",
    "distributor = GraphPartitioning()\n",
    "\n",
    "start = time.time()\n",
    "placement = distributor.distribute(dist_circ, network)\n",
    "print(\"time to distribute\", time.time() - start)\n",
    "print(\"final placement\", placement.placement)"
   ]
  },
  {
   "cell_type": "markdown",
   "id": "44c77b71",
   "metadata": {},
   "source": [
    "The placements resulting from using the GraphPartitioning method may not be valid on near term networks, as it does not take into consideration limits on the numbers of qubits in each server. It attempts to meet a load balancing condition, which aims to evenly balance the number of gates and qubits that each server must manage. This is not appropriate when the resources themselves are not evenly balanced."
   ]
  },
  {
   "cell_type": "code",
   "execution_count": null,
   "id": "477525c4",
   "metadata": {},
   "outputs": [],
   "source": [
    "if placement.is_placement(dist_circ, network):\n",
    "    print(\"final placement cost\", placement.cost(dist_circ, network))\n",
    "else:\n",
    "    print(\"Unfortunatly this is not a valid placement.\")"
   ]
  },
  {
   "cell_type": "markdown",
   "id": "7531d1f0",
   "metadata": {},
   "source": [
    "Routing makes use of routing and placement and routing techniques available in TKET. Here the network architecture as a whole is interpreted as a backend architecture, with noise on edges between servers set to be very high. Routing is guaranteed to generate a valid placement, and often very quickly. Unfortunately, it does not do a great job of distinguishing between connections within servers and connections between them. This can result in a high e-bit cost. Routing will also alter the circuit"
   ]
  },
  {
   "cell_type": "code",
   "execution_count": null,
   "id": "b7c43c2a",
   "metadata": {},
   "outputs": [],
   "source": [
    "from pytket_dqc.distributors import Routing\n",
    "\n",
    "distributor = Routing()\n",
    "\n",
    "start = time.time()\n",
    "placement = distributor.distribute(dist_circ, network)\n",
    "print(\"time to distribute\", time.time() - start)\n",
    "print(\"final placement\", placement.placement)\n",
    "print(\"final placement cost\", placement.cost(dist_circ, network))"
   ]
  },
  {
   "cell_type": "markdown",
   "id": "d2982844",
   "metadata": {},
   "source": [
    "Note that it is possible to distribute circuits with controlled unitaries. This feature is under development, and may not work for all distributors. However..."
   ]
  },
  {
   "cell_type": "code",
   "execution_count": null,
   "id": "5601497e",
   "metadata": {},
   "outputs": [],
   "source": [
    "network = NISQNetwork([[0,1]], {0:[0], 1:[1]})\n",
    "network.draw_nisq_network()\n",
    "\n",
    "op = Op.create(OpType.V)\n",
    "cv = QControlBox(op, 1)\n",
    "\n",
    "circ = Circuit(2)\n",
    "circ.add_qcontrolbox(cv, [0,1]) \n",
    "circ.add_qcontrolbox(cv, [0,1]) \n",
    "circ.Rz(0.3,0)\n",
    "circ.add_qcontrolbox(cv, [0,1]) \n",
    "circ.Rx(0.3,0)\n",
    "circ.add_qcontrolbox(cv, [0,1]) \n",
    "circ.add_qcontrolbox(cv, [0,1]) \n",
    "\n",
    "render_circuit_jupyter(circ)\n",
    "\n",
    "dist_circ = DistributedCircuit(circ)\n",
    "dist_circ.draw()\n",
    "\n",
    "distributor = Brute()\n",
    "\n",
    "placement = distributor.distribute(dist_circ, network)\n",
    "print(\"final placement\", placement.placement)\n",
    "print(\"final placement cost\", placement.cost(dist_circ, network))"
   ]
  },
  {
   "cell_type": "markdown",
   "id": "b0473ec2",
   "metadata": {},
   "source": [
    "## Larger Example\n",
    "\n",
    "Let's see how far we can push these schemes. Let's create a larger network:"
   ]
  },
  {
   "cell_type": "code",
   "execution_count": null,
   "id": "43b05f2c",
   "metadata": {},
   "outputs": [],
   "source": [
    "from pytket_dqc.networks import NISQNetwork\n",
    "\n",
    "network = NISQNetwork([[0,1], [0,2], [0,3]], {0:[i for i in range(10)], 1:[i for i in range(10, 20)], 2:[i for i in range(20,30)], 3:[i for i in range(30,40)]})\n",
    "network.draw_nisq_network()"
   ]
  },
  {
   "cell_type": "markdown",
   "id": "38563bad",
   "metadata": {},
   "source": [
    "and a larger circuit:"
   ]
  },
  {
   "cell_type": "code",
   "execution_count": null,
   "id": "bd8ce529",
   "metadata": {
    "scrolled": false
   },
   "outputs": [],
   "source": [
    "from pytket_dqc.circuits import CyclicDistributedCircuit\n",
    "from pytket.circuit.display import render_circuit_jupyter\n",
    "\n",
    "dist_circ = CyclicDistributedCircuit(35,2)\n",
    "render_circuit_jupyter(dist_circ.circuit)\n",
    "dist_circ.draw()"
   ]
  },
  {
   "cell_type": "markdown",
   "id": "e26036a5",
   "metadata": {},
   "source": [
    "We have already seen that Brute can be quite slow, so let's not use that here. Let's see how the others perform, starting with Annealing. In this case we see that it performs the slowest of the three schemes. However it does not take an unreasonably long time, and the solution is reasonably good."
   ]
  },
  {
   "cell_type": "code",
   "execution_count": null,
   "id": "11ea178e",
   "metadata": {},
   "outputs": [],
   "source": [
    "from pytket_dqc.distributors import Annealing\n",
    "import time\n",
    "\n",
    "distributor = Annealing()\n",
    "\n",
    "start = time.time()\n",
    "placement = distributor.distribute(dist_circ, network)\n",
    "print(\"time to distribute\", time.time() - start)\n",
    "print(\"final placement\", placement.placement)\n",
    "print(\"final placement cost\", placement.cost(dist_circ, network))"
   ]
  },
  {
   "cell_type": "markdown",
   "id": "5fbd4c56",
   "metadata": {},
   "source": [
    "GraphPartitioning is the quickest, and produces the best result. In this case this is not unsurprising. The servers do have balanced resources, and so we expect a valid solution in this case. The implementation of kahypar is highly optimised and so the result is arrived at very quickly."
   ]
  },
  {
   "cell_type": "code",
   "execution_count": null,
   "id": "64dd7fb8",
   "metadata": {},
   "outputs": [],
   "source": [
    "from pytket_dqc.distributors import GraphPartitioning\n",
    "\n",
    "distributor = GraphPartitioning()\n",
    "\n",
    "start = time.time()\n",
    "placement = distributor.distribute(dist_circ, network)\n",
    "print(\"time to distribute\", time.time() - start)\n",
    "print(\"final placement\", placement.placement)\n",
    "\n",
    "if placement.is_placement(dist_circ, network):\n",
    "    print(\"final placement cost\", placement.cost(dist_circ, network))\n",
    "else:\n",
    "    print(\"Unfortunatly this is not a valid placement.\")"
   ]
  },
  {
   "cell_type": "markdown",
   "id": "671d39ca",
   "metadata": {},
   "source": [
    "The placement cost of Routing is the worst, although this is not unreasonably so. Again it arrives a the solution very quickly."
   ]
  },
  {
   "cell_type": "code",
   "execution_count": null,
   "id": "dedda0aa",
   "metadata": {},
   "outputs": [],
   "source": [
    "from pytket_dqc.distributors import Routing\n",
    "\n",
    "distributor = Routing()\n",
    "\n",
    "start = time.time()\n",
    "placement = distributor.distribute(dist_circ, network)\n",
    "print(\"time to distribute\", time.time() - start)\n",
    "print(\"final placement\", placement.placement)\n",
    "print(\"final placement cost\", placement.cost(dist_circ, network))"
   ]
  },
  {
   "cell_type": "markdown",
   "id": "9a48d1a7",
   "metadata": {},
   "source": [
    "Let's finally take a more complex network:"
   ]
  },
  {
   "cell_type": "code",
   "execution_count": null,
   "id": "51efdac5",
   "metadata": {
    "scrolled": false
   },
   "outputs": [],
   "source": [
    "from pytket_dqc.networks import NISQNetwork\n",
    "\n",
    "network = NISQNetwork([[0,1], [0,2], [2,3]], {0:[i for i in range(5)], 1:[i for i in range(5, 20)], 2:[i for i in range(20,30)], 3:[i for i in range(30,45)]})\n",
    "network.draw_nisq_network()"
   ]
  },
  {
   "cell_type": "markdown",
   "id": "602b2f15",
   "metadata": {},
   "source": [
    "and circuit:"
   ]
  },
  {
   "cell_type": "code",
   "execution_count": null,
   "id": "7227aec6",
   "metadata": {
    "scrolled": false
   },
   "outputs": [],
   "source": [
    "from pytket_dqc.circuits import RegularGraphDistributedCircuit\n",
    "from pytket.circuit.display import render_circuit_jupyter\n",
    "\n",
    "dist_circ = RegularGraphDistributedCircuit(34,3,5)\n",
    "render_circuit_jupyter(dist_circ.circuit)\n",
    "dist_circ.draw()"
   ]
  },
  {
   "cell_type": "markdown",
   "id": "63ec728a",
   "metadata": {},
   "source": [
    "Annealing now takes a non-negligible time to find a placement. However, the solution is valid, and of those that generate a valid solution, it is the best"
   ]
  },
  {
   "cell_type": "code",
   "execution_count": null,
   "id": "96766dd9",
   "metadata": {},
   "outputs": [],
   "source": [
    "from pytket_dqc.distributors import Annealing\n",
    "import time\n",
    "\n",
    "distributor = Annealing()\n",
    "\n",
    "start = time.time()\n",
    "placement = distributor.distribute(dist_circ, network)\n",
    "print(\"time to distribute\", time.time() - start)\n",
    "print(\"final placement\", placement.placement)\n",
    "print(\"final placement cost\", placement.cost(dist_circ, network))"
   ]
  },
  {
   "cell_type": "markdown",
   "id": "962d41f4",
   "metadata": {},
   "source": [
    "GraphPartitioning is again remarkably quick. However, as the loads are unbalanced in this case, the result is not valid."
   ]
  },
  {
   "cell_type": "code",
   "execution_count": null,
   "id": "e04ebdd1",
   "metadata": {},
   "outputs": [],
   "source": [
    "from pytket_dqc.distributors import GraphPartitioning\n",
    "\n",
    "distributor = GraphPartitioning()\n",
    "\n",
    "start = time.time()\n",
    "placement = distributor.distribute(dist_circ, network)\n",
    "print(\"time to distribute\", time.time() - start)\n",
    "print(\"final placement\", placement.placement)\n",
    "\n",
    "if placement.is_placement(dist_circ, network):\n",
    "    print(\"final placement cost\", placement.cost(dist_circ, network))\n",
    "else:\n",
    "    print(\"Unfortunatly this is not a valid placement.\")"
   ]
  },
  {
   "cell_type": "markdown",
   "id": "ce2ff8fb",
   "metadata": {},
   "source": [
    "Routing too is now noticeably slow, and the solution quite poor."
   ]
  },
  {
   "cell_type": "code",
   "execution_count": null,
   "id": "5b5184da",
   "metadata": {},
   "outputs": [],
   "source": [
    "from pytket_dqc.distributors import Routing\n",
    "\n",
    "distributor = Routing()\n",
    "\n",
    "start = time.time()\n",
    "placement = distributor.distribute(dist_circ, network)\n",
    "print(\"time to distribute\", time.time() - start)\n",
    "print(\"final placement\", placement.placement)\n",
    "print(\"final placement cost\", placement.cost(dist_circ, network))"
   ]
  }
 ],
 "metadata": {
  "kernelspec": {
   "display_name": "Python 3 (ipykernel)",
   "language": "python",
   "name": "python3"
  },
  "language_info": {
   "codemirror_mode": {
    "name": "ipython",
    "version": 3
   },
   "file_extension": ".py",
   "mimetype": "text/x-python",
   "name": "python",
   "nbconvert_exporter": "python",
   "pygments_lexer": "ipython3",
   "version": "3.9.7"
  }
 },
 "nbformat": 4,
 "nbformat_minor": 5
}
